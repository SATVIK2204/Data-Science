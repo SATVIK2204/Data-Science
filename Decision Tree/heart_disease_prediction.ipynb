 {
 "metadata": {
  "language_info": {
   "codemirror_mode": {
    "name": "ipython",
    "version": 3
   },
   "file_extension": ".py",
   "mimetype": "text/x-python",
   "name": "python",
   "nbconvert_exporter": "python",
   "pygments_lexer": "ipython3",
   "version": "3.8.6-final"
  },
  "orig_nbformat": 2,
  "kernelspec": {
   "name": "python3",
   "display_name": "Python 3.8.6 64-bit",
   "metadata": {
    "interpreter": {
     "hash": "ecdfa4c586fb4a5b9b815ce768f5b9c87ab142160afa2661233910bcbce624c0"
    }
   }
  }
 },
 "nbformat": 4,
 "nbformat_minor": 2,
 "cells": [
  {
   "cell_type": "code",
   "execution_count": 2,
   "metadata": {},
   "outputs": [],
   "source": [
    "import numpy as np \n",
    "import pandas as pd \n",
    "import matplotlib.pyplot as plt \n",
    "from sklearn.tree import DecisionTreeClassifier\n",
    "from sklearn.tree import plot_tree\n",
    "from sklearn.model_selection import train_test_split\n",
    "from sklearn.model_selection import cross_val_score\n",
    "from sklearn.metrics import confusion_matrix\n",
    "from sklearn.metrics import plot_confusion_matrix"
   ]
  },
  {
   "cell_type": "code",
   "execution_count": 40,
   "metadata": {},
   "outputs": [],
   "source": [
    "df=pd.read_csv('./data/processed.cleveland.data.csv')"
   ]
  },
  {
   "cell_type": "code",
   "execution_count": 41,
   "metadata": {},
   "outputs": [
    {
     "output_type": "execute_result",
     "data": {
      "text/plain": [
       "   63.0  1.0  1.0.1  145.0  233.0  1.0.2  2.0  150.0  0.0  2.3  3.0 0.0.1  \\\n",
       "0  67.0  1.0    4.0  160.0  286.0    0.0  2.0  108.0  1.0  1.5  2.0   3.0   \n",
       "1  67.0  1.0    4.0  120.0  229.0    0.0  2.0  129.0  1.0  2.6  2.0   2.0   \n",
       "2  37.0  1.0    3.0  130.0  250.0    0.0  0.0  187.0  0.0  3.5  3.0   0.0   \n",
       "3  41.0  0.0    2.0  130.0  204.0    0.0  2.0  172.0  0.0  1.4  1.0   0.0   \n",
       "4  56.0  1.0    2.0  120.0  236.0    0.0  0.0  178.0  0.0  0.8  1.0   0.0   \n",
       "\n",
       "   6.0  0  \n",
       "0  3.0  2  \n",
       "1  7.0  1  \n",
       "2  3.0  0  \n",
       "3  3.0  0  \n",
       "4  3.0  0  "
      ],
      "text/html": "<div>\n<style scoped>\n    .dataframe tbody tr th:only-of-type {\n        vertical-align: middle;\n    }\n\n    .dataframe tbody tr th {\n        vertical-align: top;\n    }\n\n    .dataframe thead th {\n        text-align: right;\n    }\n</style>\n<table border=\"1\" class=\"dataframe\">\n  <thead>\n    <tr style=\"text-align: right;\">\n      <th></th>\n      <th>63.0</th>\n      <th>1.0</th>\n      <th>1.0.1</th>\n      <th>145.0</th>\n      <th>233.0</th>\n      <th>1.0.2</th>\n      <th>2.0</th>\n      <th>150.0</th>\n      <th>0.0</th>\n      <th>2.3</th>\n      <th>3.0</th>\n      <th>0.0.1</th>\n      <th>6.0</th>\n      <th>0</th>\n    </tr>\n  </thead>\n  <tbody>\n    <tr>\n      <th>0</th>\n      <td>67.0</td>\n      <td>1.0</td>\n      <td>4.0</td>\n      <td>160.0</td>\n      <td>286.0</td>\n      <td>0.0</td>\n      <td>2.0</td>\n      <td>108.0</td>\n      <td>1.0</td>\n      <td>1.5</td>\n      <td>2.0</td>\n      <td>3.0</td>\n      <td>3.0</td>\n      <td>2</td>\n    </tr>\n    <tr>\n      <th>1</th>\n      <td>67.0</td>\n      <td>1.0</td>\n      <td>4.0</td>\n      <td>120.0</td>\n      <td>229.0</td>\n      <td>0.0</td>\n      <td>2.0</td>\n      <td>129.0</td>\n      <td>1.0</td>\n      <td>2.6</td>\n      <td>2.0</td>\n      <td>2.0</td>\n      <td>7.0</td>\n      <td>1</td>\n    </tr>\n    <tr>\n      <th>2</th>\n      <td>37.0</td>\n      <td>1.0</td>\n      <td>3.0</td>\n      <td>130.0</td>\n      <td>250.0</td>\n      <td>0.0</td>\n      <td>0.0</td>\n      <td>187.0</td>\n      <td>0.0</td>\n      <td>3.5</td>\n      <td>3.0</td>\n      <td>0.0</td>\n      <td>3.0</td>\n      <td>0</td>\n    </tr>\n    <tr>\n      <th>3</th>\n      <td>41.0</td>\n      <td>0.0</td>\n      <td>2.0</td>\n      <td>130.0</td>\n      <td>204.0</td>\n      <td>0.0</td>\n      <td>2.0</td>\n      <td>172.0</td>\n      <td>0.0</td>\n      <td>1.4</td>\n      <td>1.0</td>\n      <td>0.0</td>\n      <td>3.0</td>\n      <td>0</td>\n    </tr>\n    <tr>\n      <th>4</th>\n      <td>56.0</td>\n      <td>1.0</td>\n      <td>2.0</td>\n      <td>120.0</td>\n      <td>236.0</td>\n      <td>0.0</td>\n      <td>0.0</td>\n      <td>178.0</td>\n      <td>0.0</td>\n      <td>0.8</td>\n      <td>1.0</td>\n      <td>0.0</td>\n      <td>3.0</td>\n      <td>0</td>\n    </tr>\n  </tbody>\n</table>\n</div>"
     },
     "metadata": {},
     "execution_count": 41
    }
   ],
   "source": [
    "df.head()"
   ]
  },
  {
   "source": [
    "As our data don't have column names let's assign them names. The names are from where the dataset is taken from  "
   ],
   "cell_type": "markdown",
   "metadata": {}
  },
  {
   "cell_type": "code",
   "execution_count": 42,
   "metadata": {},
   "outputs": [
    {
     "output_type": "execute_result",
     "data": {
      "text/plain": [
       "    age  sex  chest_pain  blood pressure  serum_cholestoral  \\\n",
       "0  67.0  1.0         4.0           160.0              286.0   \n",
       "1  67.0  1.0         4.0           120.0              229.0   \n",
       "2  37.0  1.0         3.0           130.0              250.0   \n",
       "3  41.0  0.0         2.0           130.0              204.0   \n",
       "4  56.0  1.0         2.0           120.0              236.0   \n",
       "\n",
       "   fasting_blood_sugar  electrocardiographic  max_heart_rate  induced_angina  \\\n",
       "0                  0.0                   2.0           108.0             1.0   \n",
       "1                  0.0                   2.0           129.0             1.0   \n",
       "2                  0.0                   0.0           187.0             0.0   \n",
       "3                  0.0                   2.0           172.0             0.0   \n",
       "4                  0.0                   0.0           178.0             0.0   \n",
       "\n",
       "   ST_depression  slope vessels thal  diagnosis  \n",
       "0            1.5    2.0     3.0  3.0          2  \n",
       "1            2.6    2.0     2.0  7.0          1  \n",
       "2            3.5    3.0     0.0  3.0          0  \n",
       "3            1.4    1.0     0.0  3.0          0  \n",
       "4            0.8    1.0     0.0  3.0          0  "
      ],
      "text/html": "<div>\n<style scoped>\n    .dataframe tbody tr th:only-of-type {\n        vertical-align: middle;\n    }\n\n    .dataframe tbody tr th {\n        vertical-align: top;\n    }\n\n    .dataframe thead th {\n        text-align: right;\n    }\n</style>\n<table border=\"1\" class=\"dataframe\">\n  <thead>\n    <tr style=\"text-align: right;\">\n      <th></th>\n      <th>age</th>\n      <th>sex</th>\n      <th>chest_pain</th>\n      <th>blood pressure</th>\n      <th>serum_cholestoral</th>\n      <th>fasting_blood_sugar</th>\n      <th>electrocardiographic</th>\n      <th>max_heart_rate</th>\n      <th>induced_angina</th>\n      <th>ST_depression</th>\n      <th>slope</th>\n      <th>vessels</th>\n      <th>thal</th>\n      <th>diagnosis</th>\n    </tr>\n  </thead>\n  <tbody>\n    <tr>\n      <th>0</th>\n      <td>67.0</td>\n      <td>1.0</td>\n      <td>4.0</td>\n      <td>160.0</td>\n      <td>286.0</td>\n      <td>0.0</td>\n      <td>2.0</td>\n      <td>108.0</td>\n      <td>1.0</td>\n      <td>1.5</td>\n      <td>2.0</td>\n      <td>3.0</td>\n      <td>3.0</td>\n      <td>2</td>\n    </tr>\n    <tr>\n      <th>1</th>\n      <td>67.0</td>\n      <td>1.0</td>\n      <td>4.0</td>\n      <td>120.0</td>\n      <td>229.0</td>\n      <td>0.0</td>\n      <td>2.0</td>\n      <td>129.0</td>\n      <td>1.0</td>\n      <td>2.6</td>\n      <td>2.0</td>\n      <td>2.0</td>\n      <td>7.0</td>\n      <td>1</td>\n    </tr>\n    <tr>\n      <th>2</th>\n      <td>37.0</td>\n      <td>1.0</td>\n      <td>3.0</td>\n      <td>130.0</td>\n      <td>250.0</td>\n      <td>0.0</td>\n      <td>0.0</td>\n      <td>187.0</td>\n      <td>0.0</td>\n      <td>3.5</td>\n      <td>3.0</td>\n      <td>0.0</td>\n      <td>3.0</td>\n      <td>0</td>\n    </tr>\n    <tr>\n      <th>3</th>\n      <td>41.0</td>\n      <td>0.0</td>\n      <td>2.0</td>\n      <td>130.0</td>\n      <td>204.0</td>\n      <td>0.0</td>\n      <td>2.0</td>\n      <td>172.0</td>\n      <td>0.0</td>\n      <td>1.4</td>\n      <td>1.0</td>\n      <td>0.0</td>\n      <td>3.0</td>\n      <td>0</td>\n    </tr>\n    <tr>\n      <th>4</th>\n      <td>56.0</td>\n      <td>1.0</td>\n      <td>2.0</td>\n      <td>120.0</td>\n      <td>236.0</td>\n      <td>0.0</td>\n      <td>0.0</td>\n      <td>178.0</td>\n      <td>0.0</td>\n      <td>0.8</td>\n      <td>1.0</td>\n      <td>0.0</td>\n      <td>3.0</td>\n      <td>0</td>\n    </tr>\n  </tbody>\n</table>\n</div>"
     },
     "metadata": {},
     "execution_count": 42
    }
   ],
   "source": [
    "df.columns = [\n",
    "'age',\n",
    "'sex',\n",
    "'chest_pain',\n",
    "'blood pressure',\n",
    "'serum_cholestoral',\n",
    "'fasting_blood_sugar',\n",
    "'electrocardiographic',\n",
    "'max_heart_rate',\n",
    "'induced_angina',\n",
    "'ST_depression',\n",
    "'slope',\n",
    "'vessels',\n",
    "'thal',\n",
    "'diagnosis']\n",
    "\n",
    "df.head()"
   ]
  },
  {
   "source": [
    "## Dealing with the missing data"
   ],
   "cell_type": "markdown",
   "metadata": {}
  },
  {
   "cell_type": "code",
   "execution_count": 43,
   "metadata": {},
   "outputs": [
    {
     "output_type": "stream",
     "name": "stdout",
     "text": [
      "<class 'pandas.core.frame.DataFrame'>\nRangeIndex: 302 entries, 0 to 301\nData columns (total 14 columns):\n #   Column                Non-Null Count  Dtype  \n---  ------                --------------  -----  \n 0   age                   302 non-null    float64\n 1   sex                   302 non-null    float64\n 2   chest_pain            302 non-null    float64\n 3   blood pressure        302 non-null    float64\n 4   serum_cholestoral     302 non-null    float64\n 5   fasting_blood_sugar   302 non-null    float64\n 6   electrocardiographic  302 non-null    float64\n 7   max_heart_rate        302 non-null    float64\n 8   induced_angina        302 non-null    float64\n 9   ST_depression         302 non-null    float64\n 10  slope                 302 non-null    float64\n 11  vessels               302 non-null    object \n 12  thal                  302 non-null    object \n 13  diagnosis             302 non-null    int64  \ndtypes: float64(11), int64(1), object(2)\nmemory usage: 33.2+ KB\n"
     ]
    }
   ],
   "source": [
    "df.info()"
   ]
  },
  {
   "source": [
    "We don't have any null value"
   ],
   "cell_type": "markdown",
   "metadata": {}
  },
  {
   "cell_type": "code",
   "execution_count": 44,
   "metadata": {},
   "outputs": [
    {
     "output_type": "execute_result",
     "data": {
      "text/plain": [
       "age                     float64\n",
       "sex                     float64\n",
       "chest_pain              float64\n",
       "blood pressure          float64\n",
       "serum_cholestoral       float64\n",
       "fasting_blood_sugar     float64\n",
       "electrocardiographic    float64\n",
       "max_heart_rate          float64\n",
       "induced_angina          float64\n",
       "ST_depression           float64\n",
       "slope                   float64\n",
       "vessels                  object\n",
       "thal                     object\n",
       "diagnosis                 int64\n",
       "dtype: object"
      ]
     },
     "metadata": {},
     "execution_count": 44
    }
   ],
   "source": [
    "# dtypes tells datatype of each column\n",
    "df.dtypes"
   ]
  },
  {
   "source": [
    "We can see both vessels and thal have 'object' datatype so they might have both numbers and some other characters. Let's print all see what is going"
   ],
   "cell_type": "markdown",
   "metadata": {}
  },
  {
   "cell_type": "code",
   "execution_count": 45,
   "metadata": {},
   "outputs": [
    {
     "output_type": "execute_result",
     "data": {
      "text/plain": [
       "array(['3.0', '2.0', '0.0', '1.0', '?'], dtype=object)"
      ]
     },
     "metadata": {},
     "execution_count": 45
    }
   ],
   "source": [
    "df['vessels'].unique()"
   ]
  },
  {
   "cell_type": "code",
   "execution_count": 46,
   "metadata": {},
   "outputs": [
    {
     "output_type": "execute_result",
     "data": {
      "text/plain": [
       "array(['3.0', '7.0', '6.0', '?'], dtype=object)"
      ]
     },
     "metadata": {},
     "execution_count": 46
    }
   ],
   "source": [
    "df['thal'].unique()"
   ]
  },
  {
   "cell_type": "code",
   "execution_count": 47,
   "metadata": {},
   "outputs": [
    {
     "output_type": "stream",
     "name": "stdout",
     "text": [
      "6 rows found\n"
     ]
    }
   ],
   "source": [
    "# loc helps to access rows and columns by labels or boolean\n",
    "print(str(len(df.loc[(df['vessels']=='?')\n",
    "    | (df['thal']=='?')]))+\" rows found\")"
   ]
  },
  {
   "cell_type": "code",
   "execution_count": 48,
   "metadata": {},
   "outputs": [
    {
     "output_type": "execute_result",
     "data": {
      "text/plain": [
       "      age  sex  chest_pain  blood pressure  serum_cholestoral  \\\n",
       "86   53.0  0.0         3.0           128.0              216.0   \n",
       "165  52.0  1.0         3.0           138.0              223.0   \n",
       "191  43.0  1.0         4.0           132.0              247.0   \n",
       "265  52.0  1.0         4.0           128.0              204.0   \n",
       "286  58.0  1.0         2.0           125.0              220.0   \n",
       "301  38.0  1.0         3.0           138.0              175.0   \n",
       "\n",
       "     fasting_blood_sugar  electrocardiographic  max_heart_rate  \\\n",
       "86                   0.0                   2.0           115.0   \n",
       "165                  0.0                   0.0           169.0   \n",
       "191                  1.0                   2.0           143.0   \n",
       "265                  1.0                   0.0           156.0   \n",
       "286                  0.0                   0.0           144.0   \n",
       "301                  0.0                   0.0           173.0   \n",
       "\n",
       "     induced_angina  ST_depression  slope vessels thal  diagnosis  \n",
       "86              0.0            0.0    1.0     0.0    ?          0  \n",
       "165             0.0            0.0    1.0       ?  3.0          0  \n",
       "191             1.0            0.1    2.0       ?  7.0          1  \n",
       "265             1.0            1.0    2.0     0.0    ?          2  \n",
       "286             0.0            0.4    2.0       ?  7.0          0  \n",
       "301             0.0            0.0    1.0       ?  3.0          0  "
      ],
      "text/html": "<div>\n<style scoped>\n    .dataframe tbody tr th:only-of-type {\n        vertical-align: middle;\n    }\n\n    .dataframe tbody tr th {\n        vertical-align: top;\n    }\n\n    .dataframe thead th {\n        text-align: right;\n    }\n</style>\n<table border=\"1\" class=\"dataframe\">\n  <thead>\n    <tr style=\"text-align: right;\">\n      <th></th>\n      <th>age</th>\n      <th>sex</th>\n      <th>chest_pain</th>\n      <th>blood pressure</th>\n      <th>serum_cholestoral</th>\n      <th>fasting_blood_sugar</th>\n      <th>electrocardiographic</th>\n      <th>max_heart_rate</th>\n      <th>induced_angina</th>\n      <th>ST_depression</th>\n      <th>slope</th>\n      <th>vessels</th>\n      <th>thal</th>\n      <th>diagnosis</th>\n    </tr>\n  </thead>\n  <tbody>\n    <tr>\n      <th>86</th>\n      <td>53.0</td>\n      <td>0.0</td>\n      <td>3.0</td>\n      <td>128.0</td>\n      <td>216.0</td>\n      <td>0.0</td>\n      <td>2.0</td>\n      <td>115.0</td>\n      <td>0.0</td>\n      <td>0.0</td>\n      <td>1.0</td>\n      <td>0.0</td>\n      <td>?</td>\n      <td>0</td>\n    </tr>\n    <tr>\n      <th>165</th>\n      <td>52.0</td>\n      <td>1.0</td>\n      <td>3.0</td>\n      <td>138.0</td>\n      <td>223.0</td>\n      <td>0.0</td>\n      <td>0.0</td>\n      <td>169.0</td>\n      <td>0.0</td>\n      <td>0.0</td>\n      <td>1.0</td>\n      <td>?</td>\n      <td>3.0</td>\n      <td>0</td>\n    </tr>\n    <tr>\n      <th>191</th>\n      <td>43.0</td>\n      <td>1.0</td>\n      <td>4.0</td>\n      <td>132.0</td>\n      <td>247.0</td>\n      <td>1.0</td>\n      <td>2.0</td>\n      <td>143.0</td>\n      <td>1.0</td>\n      <td>0.1</td>\n      <td>2.0</td>\n      <td>?</td>\n      <td>7.0</td>\n      <td>1</td>\n    </tr>\n    <tr>\n      <th>265</th>\n      <td>52.0</td>\n      <td>1.0</td>\n      <td>4.0</td>\n      <td>128.0</td>\n      <td>204.0</td>\n      <td>1.0</td>\n      <td>0.0</td>\n      <td>156.0</td>\n      <td>1.0</td>\n      <td>1.0</td>\n      <td>2.0</td>\n      <td>0.0</td>\n      <td>?</td>\n      <td>2</td>\n    </tr>\n    <tr>\n      <th>286</th>\n      <td>58.0</td>\n      <td>1.0</td>\n      <td>2.0</td>\n      <td>125.0</td>\n      <td>220.0</td>\n      <td>0.0</td>\n      <td>0.0</td>\n      <td>144.0</td>\n      <td>0.0</td>\n      <td>0.4</td>\n      <td>2.0</td>\n      <td>?</td>\n      <td>7.0</td>\n      <td>0</td>\n    </tr>\n    <tr>\n      <th>301</th>\n      <td>38.0</td>\n      <td>1.0</td>\n      <td>3.0</td>\n      <td>138.0</td>\n      <td>175.0</td>\n      <td>0.0</td>\n      <td>0.0</td>\n      <td>173.0</td>\n      <td>0.0</td>\n      <td>0.0</td>\n      <td>1.0</td>\n      <td>?</td>\n      <td>3.0</td>\n      <td>0</td>\n    </tr>\n  </tbody>\n</table>\n</div>"
     },
     "metadata": {},
     "execution_count": 48
    }
   ],
   "source": [
    "df.loc[(df['vessels']=='?')\\\n",
    "    | (df['thal']=='?')]"
   ]
  },
  {
   "cell_type": "code",
   "execution_count": 49,
   "metadata": {},
   "outputs": [
    {
     "output_type": "execute_result",
     "data": {
      "text/plain": [
       "(302, 14)"
      ]
     },
     "metadata": {},
     "execution_count": 49
    }
   ],
   "source": [
    "df.shape"
   ]
  },
  {
   "source": [
    "Now we have 302 rows in total and 6 out of them are not correct so we can drop them without significant loss in training samples"
   ],
   "cell_type": "markdown",
   "metadata": {}
  },
  {
   "cell_type": "code",
   "execution_count": 50,
   "metadata": {},
   "outputs": [],
   "source": [
    "df_new=df.loc[(df['vessels']!='?')\\\n",
    "       & (df['thal']!='?')]"
   ]
  },
  {
   "cell_type": "code",
   "execution_count": 51,
   "metadata": {},
   "outputs": [
    {
     "output_type": "execute_result",
     "data": {
      "text/plain": [
       "      age  sex  chest_pain  blood pressure  serum_cholestoral  \\\n",
       "0    67.0  1.0         4.0           160.0              286.0   \n",
       "1    67.0  1.0         4.0           120.0              229.0   \n",
       "2    37.0  1.0         3.0           130.0              250.0   \n",
       "3    41.0  0.0         2.0           130.0              204.0   \n",
       "4    56.0  1.0         2.0           120.0              236.0   \n",
       "..    ...  ...         ...             ...                ...   \n",
       "296  57.0  0.0         4.0           140.0              241.0   \n",
       "297  45.0  1.0         1.0           110.0              264.0   \n",
       "298  68.0  1.0         4.0           144.0              193.0   \n",
       "299  57.0  1.0         4.0           130.0              131.0   \n",
       "300  57.0  0.0         2.0           130.0              236.0   \n",
       "\n",
       "     fasting_blood_sugar  electrocardiographic  max_heart_rate  \\\n",
       "0                    0.0                   2.0           108.0   \n",
       "1                    0.0                   2.0           129.0   \n",
       "2                    0.0                   0.0           187.0   \n",
       "3                    0.0                   2.0           172.0   \n",
       "4                    0.0                   0.0           178.0   \n",
       "..                   ...                   ...             ...   \n",
       "296                  0.0                   0.0           123.0   \n",
       "297                  0.0                   0.0           132.0   \n",
       "298                  1.0                   0.0           141.0   \n",
       "299                  0.0                   0.0           115.0   \n",
       "300                  0.0                   2.0           174.0   \n",
       "\n",
       "     induced_angina  ST_depression  slope vessels thal  diagnosis  \n",
       "0               1.0            1.5    2.0     3.0  3.0          2  \n",
       "1               1.0            2.6    2.0     2.0  7.0          1  \n",
       "2               0.0            3.5    3.0     0.0  3.0          0  \n",
       "3               0.0            1.4    1.0     0.0  3.0          0  \n",
       "4               0.0            0.8    1.0     0.0  3.0          0  \n",
       "..              ...            ...    ...     ...  ...        ...  \n",
       "296             1.0            0.2    2.0     0.0  7.0          1  \n",
       "297             0.0            1.2    2.0     0.0  7.0          1  \n",
       "298             0.0            3.4    2.0     2.0  7.0          2  \n",
       "299             1.0            1.2    2.0     1.0  7.0          3  \n",
       "300             0.0            0.0    2.0     1.0  3.0          1  \n",
       "\n",
       "[296 rows x 14 columns]"
      ],
      "text/html": "<div>\n<style scoped>\n    .dataframe tbody tr th:only-of-type {\n        vertical-align: middle;\n    }\n\n    .dataframe tbody tr th {\n        vertical-align: top;\n    }\n\n    .dataframe thead th {\n        text-align: right;\n    }\n</style>\n<table border=\"1\" class=\"dataframe\">\n  <thead>\n    <tr style=\"text-align: right;\">\n      <th></th>\n      <th>age</th>\n      <th>sex</th>\n      <th>chest_pain</th>\n      <th>blood pressure</th>\n      <th>serum_cholestoral</th>\n      <th>fasting_blood_sugar</th>\n      <th>electrocardiographic</th>\n      <th>max_heart_rate</th>\n      <th>induced_angina</th>\n      <th>ST_depression</th>\n      <th>slope</th>\n      <th>vessels</th>\n      <th>thal</th>\n      <th>diagnosis</th>\n    </tr>\n  </thead>\n  <tbody>\n    <tr>\n      <th>0</th>\n      <td>67.0</td>\n      <td>1.0</td>\n      <td>4.0</td>\n      <td>160.0</td>\n      <td>286.0</td>\n      <td>0.0</td>\n      <td>2.0</td>\n      <td>108.0</td>\n      <td>1.0</td>\n      <td>1.5</td>\n      <td>2.0</td>\n      <td>3.0</td>\n      <td>3.0</td>\n      <td>2</td>\n    </tr>\n    <tr>\n      <th>1</th>\n      <td>67.0</td>\n      <td>1.0</td>\n      <td>4.0</td>\n      <td>120.0</td>\n      <td>229.0</td>\n      <td>0.0</td>\n      <td>2.0</td>\n      <td>129.0</td>\n      <td>1.0</td>\n      <td>2.6</td>\n      <td>2.0</td>\n      <td>2.0</td>\n      <td>7.0</td>\n      <td>1</td>\n    </tr>\n    <tr>\n      <th>2</th>\n      <td>37.0</td>\n      <td>1.0</td>\n      <td>3.0</td>\n      <td>130.0</td>\n      <td>250.0</td>\n      <td>0.0</td>\n      <td>0.0</td>\n      <td>187.0</td>\n      <td>0.0</td>\n      <td>3.5</td>\n      <td>3.0</td>\n      <td>0.0</td>\n      <td>3.0</td>\n      <td>0</td>\n    </tr>\n    <tr>\n      <th>3</th>\n      <td>41.0</td>\n      <td>0.0</td>\n      <td>2.0</td>\n      <td>130.0</td>\n      <td>204.0</td>\n      <td>0.0</td>\n      <td>2.0</td>\n      <td>172.0</td>\n      <td>0.0</td>\n      <td>1.4</td>\n      <td>1.0</td>\n      <td>0.0</td>\n      <td>3.0</td>\n      <td>0</td>\n    </tr>\n    <tr>\n      <th>4</th>\n      <td>56.0</td>\n      <td>1.0</td>\n      <td>2.0</td>\n      <td>120.0</td>\n      <td>236.0</td>\n      <td>0.0</td>\n      <td>0.0</td>\n      <td>178.0</td>\n      <td>0.0</td>\n      <td>0.8</td>\n      <td>1.0</td>\n      <td>0.0</td>\n      <td>3.0</td>\n      <td>0</td>\n    </tr>\n    <tr>\n      <th>...</th>\n      <td>...</td>\n      <td>...</td>\n      <td>...</td>\n      <td>...</td>\n      <td>...</td>\n      <td>...</td>\n      <td>...</td>\n      <td>...</td>\n      <td>...</td>\n      <td>...</td>\n      <td>...</td>\n      <td>...</td>\n      <td>...</td>\n      <td>...</td>\n    </tr>\n    <tr>\n      <th>296</th>\n      <td>57.0</td>\n      <td>0.0</td>\n      <td>4.0</td>\n      <td>140.0</td>\n      <td>241.0</td>\n      <td>0.0</td>\n      <td>0.0</td>\n      <td>123.0</td>\n      <td>1.0</td>\n      <td>0.2</td>\n      <td>2.0</td>\n      <td>0.0</td>\n      <td>7.0</td>\n      <td>1</td>\n    </tr>\n    <tr>\n      <th>297</th>\n      <td>45.0</td>\n      <td>1.0</td>\n      <td>1.0</td>\n      <td>110.0</td>\n      <td>264.0</td>\n      <td>0.0</td>\n      <td>0.0</td>\n      <td>132.0</td>\n      <td>0.0</td>\n      <td>1.2</td>\n      <td>2.0</td>\n      <td>0.0</td>\n      <td>7.0</td>\n      <td>1</td>\n    </tr>\n    <tr>\n      <th>298</th>\n      <td>68.0</td>\n      <td>1.0</td>\n      <td>4.0</td>\n      <td>144.0</td>\n      <td>193.0</td>\n      <td>1.0</td>\n      <td>0.0</td>\n      <td>141.0</td>\n      <td>0.0</td>\n      <td>3.4</td>\n      <td>2.0</td>\n      <td>2.0</td>\n      <td>7.0</td>\n      <td>2</td>\n    </tr>\n    <tr>\n      <th>299</th>\n      <td>57.0</td>\n      <td>1.0</td>\n      <td>4.0</td>\n      <td>130.0</td>\n      <td>131.0</td>\n      <td>0.0</td>\n      <td>0.0</td>\n      <td>115.0</td>\n      <td>1.0</td>\n      <td>1.2</td>\n      <td>2.0</td>\n      <td>1.0</td>\n      <td>7.0</td>\n      <td>3</td>\n    </tr>\n    <tr>\n      <th>300</th>\n      <td>57.0</td>\n      <td>0.0</td>\n      <td>2.0</td>\n      <td>130.0</td>\n      <td>236.0</td>\n      <td>0.0</td>\n      <td>2.0</td>\n      <td>174.0</td>\n      <td>0.0</td>\n      <td>0.0</td>\n      <td>2.0</td>\n      <td>1.0</td>\n      <td>3.0</td>\n      <td>1</td>\n    </tr>\n  </tbody>\n</table>\n<p>296 rows × 14 columns</p>\n</div>"
     },
     "metadata": {},
     "execution_count": 51
    }
   ],
   "source": [
    "df_new"
   ]
  },
  {
   "source": [
    "## Data Preprocessing"
   ],
   "cell_type": "markdown",
   "metadata": {}
  },
  {
   "cell_type": "code",
   "execution_count": 52,
   "metadata": {},
   "outputs": [
    {
     "output_type": "execute_result",
     "data": {
      "text/plain": [
       "    age  sex  chest_pain  blood pressure  serum_cholestoral  \\\n",
       "0  67.0  1.0         4.0           160.0              286.0   \n",
       "1  67.0  1.0         4.0           120.0              229.0   \n",
       "2  37.0  1.0         3.0           130.0              250.0   \n",
       "3  41.0  0.0         2.0           130.0              204.0   \n",
       "4  56.0  1.0         2.0           120.0              236.0   \n",
       "\n",
       "   fasting_blood_sugar  electrocardiographic  max_heart_rate  induced_angina  \\\n",
       "0                  0.0                   2.0           108.0             1.0   \n",
       "1                  0.0                   2.0           129.0             1.0   \n",
       "2                  0.0                   0.0           187.0             0.0   \n",
       "3                  0.0                   2.0           172.0             0.0   \n",
       "4                  0.0                   0.0           178.0             0.0   \n",
       "\n",
       "   ST_depression  slope vessels thal  \n",
       "0            1.5    2.0     3.0  3.0  \n",
       "1            2.6    2.0     2.0  7.0  \n",
       "2            3.5    3.0     0.0  3.0  \n",
       "3            1.4    1.0     0.0  3.0  \n",
       "4            0.8    1.0     0.0  3.0  "
      ],
      "text/html": "<div>\n<style scoped>\n    .dataframe tbody tr th:only-of-type {\n        vertical-align: middle;\n    }\n\n    .dataframe tbody tr th {\n        vertical-align: top;\n    }\n\n    .dataframe thead th {\n        text-align: right;\n    }\n</style>\n<table border=\"1\" class=\"dataframe\">\n  <thead>\n    <tr style=\"text-align: right;\">\n      <th></th>\n      <th>age</th>\n      <th>sex</th>\n      <th>chest_pain</th>\n      <th>blood pressure</th>\n      <th>serum_cholestoral</th>\n      <th>fasting_blood_sugar</th>\n      <th>electrocardiographic</th>\n      <th>max_heart_rate</th>\n      <th>induced_angina</th>\n      <th>ST_depression</th>\n      <th>slope</th>\n      <th>vessels</th>\n      <th>thal</th>\n    </tr>\n  </thead>\n  <tbody>\n    <tr>\n      <th>0</th>\n      <td>67.0</td>\n      <td>1.0</td>\n      <td>4.0</td>\n      <td>160.0</td>\n      <td>286.0</td>\n      <td>0.0</td>\n      <td>2.0</td>\n      <td>108.0</td>\n      <td>1.0</td>\n      <td>1.5</td>\n      <td>2.0</td>\n      <td>3.0</td>\n      <td>3.0</td>\n    </tr>\n    <tr>\n      <th>1</th>\n      <td>67.0</td>\n      <td>1.0</td>\n      <td>4.0</td>\n      <td>120.0</td>\n      <td>229.0</td>\n      <td>0.0</td>\n      <td>2.0</td>\n      <td>129.0</td>\n      <td>1.0</td>\n      <td>2.6</td>\n      <td>2.0</td>\n      <td>2.0</td>\n      <td>7.0</td>\n    </tr>\n    <tr>\n      <th>2</th>\n      <td>37.0</td>\n      <td>1.0</td>\n      <td>3.0</td>\n      <td>130.0</td>\n      <td>250.0</td>\n      <td>0.0</td>\n      <td>0.0</td>\n      <td>187.0</td>\n      <td>0.0</td>\n      <td>3.5</td>\n      <td>3.0</td>\n      <td>0.0</td>\n      <td>3.0</td>\n    </tr>\n    <tr>\n      <th>3</th>\n      <td>41.0</td>\n      <td>0.0</td>\n      <td>2.0</td>\n      <td>130.0</td>\n      <td>204.0</td>\n      <td>0.0</td>\n      <td>2.0</td>\n      <td>172.0</td>\n      <td>0.0</td>\n      <td>1.4</td>\n      <td>1.0</td>\n      <td>0.0</td>\n      <td>3.0</td>\n    </tr>\n    <tr>\n      <th>4</th>\n      <td>56.0</td>\n      <td>1.0</td>\n      <td>2.0</td>\n      <td>120.0</td>\n      <td>236.0</td>\n      <td>0.0</td>\n      <td>0.0</td>\n      <td>178.0</td>\n      <td>0.0</td>\n      <td>0.8</td>\n      <td>1.0</td>\n      <td>0.0</td>\n      <td>3.0</td>\n    </tr>\n  </tbody>\n</table>\n</div>"
     },
     "metadata": {},
     "execution_count": 52
    }
   ],
   "source": [
    "X=df_new.iloc[:,:-1]\n",
    "X.head()"
   ]
  },
  {
   "cell_type": "code",
   "execution_count": 55,
   "metadata": {},
   "outputs": [
    {
     "output_type": "execute_result",
     "data": {
      "text/plain": [
       "0    2\n",
       "1    1\n",
       "2    0\n",
       "3    0\n",
       "4    0\n",
       "Name: diagnosis, dtype: int64"
      ]
     },
     "metadata": {},
     "execution_count": 55
    }
   ],
   "source": [
    "Y=df_new.iloc[:,-1]\n",
    "Y.head()"
   ]
  },
  {
   "cell_type": "code",
   "execution_count": null,
   "metadata": {},
   "outputs": [],
   "source": []
  }
 ]
}