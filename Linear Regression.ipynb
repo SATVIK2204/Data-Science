{
 "metadata": {
  "language_info": {
   "codemirror_mode": {
    "name": "ipython",
    "version": 3
   },
   "file_extension": ".py",
   "mimetype": "text/x-python",
   "name": "python",
   "nbconvert_exporter": "python",
   "pygments_lexer": "ipython3",
   "version": "3.8.5-final"
  },
  "orig_nbformat": 2,
  "kernelspec": {
   "name": "python_defaultSpec_1598413402288",
   "display_name": "Python 3.7.6 64-bit ('anaconda3': conda)"
  }
 },
 "nbformat": 4,
 "nbformat_minor": 2,
 "cells": [
  {
   "cell_type": "code",
   "execution_count": 20,
   "metadata": {},
   "outputs": [],
   "source": [
    "import pandas as pd\n",
    "import numpy as np \n",
    "import matplotlib.pyplot as plt \n",
    "import seaborn as sns \n",
    "from sklearn.preprocessing import LabelEncoder\n",
    "from sklearn.model_selection import train_test_split\n",
    "from sklearn.preprocessing import MinMaxScaler\n",
    "from sklearn.preprocessing import StandardScaler\n"
   ]
  },
  {
   "cell_type": "code",
   "execution_count": 2,
   "metadata": {},
   "outputs": [],
   "source": [
    "data=pd.read_csv(\"./data/weatherHistory.csv\")\n"
   ]
  },
  {
   "cell_type": "markdown",
   "metadata": {},
   "source": [
    "# Data Preprocessing"
   ]
  },
  {
   "cell_type": "code",
   "execution_count": 3,
   "metadata": {},
   "outputs": [
    {
     "output_type": "execute_result",
     "data": {
      "text/plain": "                  Formatted Date        Summary Precip Type  Temperature (C)  \\\n0  2006-04-01 00:00:00.000 +0200  Partly Cloudy        rain         9.472222   \n1  2006-04-01 01:00:00.000 +0200  Partly Cloudy        rain         9.355556   \n2  2006-04-01 02:00:00.000 +0200  Mostly Cloudy        rain         9.377778   \n3  2006-04-01 03:00:00.000 +0200  Partly Cloudy        rain         8.288889   \n4  2006-04-01 04:00:00.000 +0200  Mostly Cloudy        rain         8.755556   \n5  2006-04-01 05:00:00.000 +0200  Partly Cloudy        rain         9.222222   \n6  2006-04-01 06:00:00.000 +0200  Partly Cloudy        rain         7.733333   \n7  2006-04-01 07:00:00.000 +0200  Partly Cloudy        rain         8.772222   \n8  2006-04-01 08:00:00.000 +0200  Partly Cloudy        rain        10.822222   \n9  2006-04-01 09:00:00.000 +0200  Partly Cloudy        rain        13.772222   \n\n   Apparent Temperature (C)  Humidity  Wind Speed (km/h)  \\\n0                  7.388889      0.89            14.1197   \n1                  7.227778      0.86            14.2646   \n2                  9.377778      0.89             3.9284   \n3                  5.944444      0.83            14.1036   \n4                  6.977778      0.83            11.0446   \n5                  7.111111      0.85            13.9587   \n6                  5.522222      0.95            12.3648   \n7                  6.527778      0.89            14.1519   \n8                 10.822222      0.82            11.3183   \n9                 13.772222      0.72            12.5258   \n\n   Wind Bearing (degrees)  Visibility (km)  Loud Cover  Pressure (millibars)  \\\n0                   251.0          15.8263         0.0               1015.13   \n1                   259.0          15.8263         0.0               1015.63   \n2                   204.0          14.9569         0.0               1015.94   \n3                   269.0          15.8263         0.0               1016.41   \n4                   259.0          15.8263         0.0               1016.51   \n5                   258.0          14.9569         0.0               1016.66   \n6                   259.0           9.9820         0.0               1016.72   \n7                   260.0           9.9820         0.0               1016.84   \n8                   259.0           9.9820         0.0               1017.37   \n9                   279.0           9.9820         0.0               1017.22   \n\n                       Daily Summary  \n0  Partly cloudy throughout the day.  \n1  Partly cloudy throughout the day.  \n2  Partly cloudy throughout the day.  \n3  Partly cloudy throughout the day.  \n4  Partly cloudy throughout the day.  \n5  Partly cloudy throughout the day.  \n6  Partly cloudy throughout the day.  \n7  Partly cloudy throughout the day.  \n8  Partly cloudy throughout the day.  \n9  Partly cloudy throughout the day.  ",
      "text/html": "<div>\n<style scoped>\n    .dataframe tbody tr th:only-of-type {\n        vertical-align: middle;\n    }\n\n    .dataframe tbody tr th {\n        vertical-align: top;\n    }\n\n    .dataframe thead th {\n        text-align: right;\n    }\n</style>\n<table border=\"1\" class=\"dataframe\">\n  <thead>\n    <tr style=\"text-align: right;\">\n      <th></th>\n      <th>Formatted Date</th>\n      <th>Summary</th>\n      <th>Precip Type</th>\n      <th>Temperature (C)</th>\n      <th>Apparent Temperature (C)</th>\n      <th>Humidity</th>\n      <th>Wind Speed (km/h)</th>\n      <th>Wind Bearing (degrees)</th>\n      <th>Visibility (km)</th>\n      <th>Loud Cover</th>\n      <th>Pressure (millibars)</th>\n      <th>Daily Summary</th>\n    </tr>\n  </thead>\n  <tbody>\n    <tr>\n      <th>0</th>\n      <td>2006-04-01 00:00:00.000 +0200</td>\n      <td>Partly Cloudy</td>\n      <td>rain</td>\n      <td>9.472222</td>\n      <td>7.388889</td>\n      <td>0.89</td>\n      <td>14.1197</td>\n      <td>251.0</td>\n      <td>15.8263</td>\n      <td>0.0</td>\n      <td>1015.13</td>\n      <td>Partly cloudy throughout the day.</td>\n    </tr>\n    <tr>\n      <th>1</th>\n      <td>2006-04-01 01:00:00.000 +0200</td>\n      <td>Partly Cloudy</td>\n      <td>rain</td>\n      <td>9.355556</td>\n      <td>7.227778</td>\n      <td>0.86</td>\n      <td>14.2646</td>\n      <td>259.0</td>\n      <td>15.8263</td>\n      <td>0.0</td>\n      <td>1015.63</td>\n      <td>Partly cloudy throughout the day.</td>\n    </tr>\n    <tr>\n      <th>2</th>\n      <td>2006-04-01 02:00:00.000 +0200</td>\n      <td>Mostly Cloudy</td>\n      <td>rain</td>\n      <td>9.377778</td>\n      <td>9.377778</td>\n      <td>0.89</td>\n      <td>3.9284</td>\n      <td>204.0</td>\n      <td>14.9569</td>\n      <td>0.0</td>\n      <td>1015.94</td>\n      <td>Partly cloudy throughout the day.</td>\n    </tr>\n    <tr>\n      <th>3</th>\n      <td>2006-04-01 03:00:00.000 +0200</td>\n      <td>Partly Cloudy</td>\n      <td>rain</td>\n      <td>8.288889</td>\n      <td>5.944444</td>\n      <td>0.83</td>\n      <td>14.1036</td>\n      <td>269.0</td>\n      <td>15.8263</td>\n      <td>0.0</td>\n      <td>1016.41</td>\n      <td>Partly cloudy throughout the day.</td>\n    </tr>\n    <tr>\n      <th>4</th>\n      <td>2006-04-01 04:00:00.000 +0200</td>\n      <td>Mostly Cloudy</td>\n      <td>rain</td>\n      <td>8.755556</td>\n      <td>6.977778</td>\n      <td>0.83</td>\n      <td>11.0446</td>\n      <td>259.0</td>\n      <td>15.8263</td>\n      <td>0.0</td>\n      <td>1016.51</td>\n      <td>Partly cloudy throughout the day.</td>\n    </tr>\n    <tr>\n      <th>5</th>\n      <td>2006-04-01 05:00:00.000 +0200</td>\n      <td>Partly Cloudy</td>\n      <td>rain</td>\n      <td>9.222222</td>\n      <td>7.111111</td>\n      <td>0.85</td>\n      <td>13.9587</td>\n      <td>258.0</td>\n      <td>14.9569</td>\n      <td>0.0</td>\n      <td>1016.66</td>\n      <td>Partly cloudy throughout the day.</td>\n    </tr>\n    <tr>\n      <th>6</th>\n      <td>2006-04-01 06:00:00.000 +0200</td>\n      <td>Partly Cloudy</td>\n      <td>rain</td>\n      <td>7.733333</td>\n      <td>5.522222</td>\n      <td>0.95</td>\n      <td>12.3648</td>\n      <td>259.0</td>\n      <td>9.9820</td>\n      <td>0.0</td>\n      <td>1016.72</td>\n      <td>Partly cloudy throughout the day.</td>\n    </tr>\n    <tr>\n      <th>7</th>\n      <td>2006-04-01 07:00:00.000 +0200</td>\n      <td>Partly Cloudy</td>\n      <td>rain</td>\n      <td>8.772222</td>\n      <td>6.527778</td>\n      <td>0.89</td>\n      <td>14.1519</td>\n      <td>260.0</td>\n      <td>9.9820</td>\n      <td>0.0</td>\n      <td>1016.84</td>\n      <td>Partly cloudy throughout the day.</td>\n    </tr>\n    <tr>\n      <th>8</th>\n      <td>2006-04-01 08:00:00.000 +0200</td>\n      <td>Partly Cloudy</td>\n      <td>rain</td>\n      <td>10.822222</td>\n      <td>10.822222</td>\n      <td>0.82</td>\n      <td>11.3183</td>\n      <td>259.0</td>\n      <td>9.9820</td>\n      <td>0.0</td>\n      <td>1017.37</td>\n      <td>Partly cloudy throughout the day.</td>\n    </tr>\n    <tr>\n      <th>9</th>\n      <td>2006-04-01 09:00:00.000 +0200</td>\n      <td>Partly Cloudy</td>\n      <td>rain</td>\n      <td>13.772222</td>\n      <td>13.772222</td>\n      <td>0.72</td>\n      <td>12.5258</td>\n      <td>279.0</td>\n      <td>9.9820</td>\n      <td>0.0</td>\n      <td>1017.22</td>\n      <td>Partly cloudy throughout the day.</td>\n    </tr>\n  </tbody>\n</table>\n</div>"
     },
     "metadata": {},
     "execution_count": 3
    }
   ],
   "source": [
    "data.head(10) "
   ]
  },
  {
   "cell_type": "code",
   "execution_count": 4,
   "metadata": {},
   "outputs": [
    {
     "output_type": "execute_result",
     "data": {
      "text/plain": "0.0    96453\nName: Loud Cover, dtype: int64"
     },
     "metadata": {},
     "execution_count": 4
    }
   ],
   "source": [
    "data['Loud Cover'].value_counts()"
   ]
  },
  {
   "cell_type": "code",
   "execution_count": 5,
   "metadata": {},
   "outputs": [],
   "source": [
    "# As the 'Loud Cover'contains only zeros,we will remove it\n",
    "data.drop(['Loud Cover'],axis=1,inplace=True)\n",
    "# We will also drop the 'Formatted Date' and 'Daily Summary' features\n",
    "data.drop(['Formatted Date','Daily Summary'],axis=1,inplace=True)"
   ]
  },
  {
   "cell_type": "code",
   "execution_count": 6,
   "metadata": {
    "tags": []
   },
   "outputs": [
    {
     "output_type": "stream",
     "name": "stdout",
     "text": "<class 'pandas.core.frame.DataFrame'>\nRangeIndex: 96453 entries, 0 to 96452\nData columns (total 9 columns):\n #   Column                    Non-Null Count  Dtype  \n---  ------                    --------------  -----  \n 0   Summary                   96453 non-null  object \n 1   Precip Type               95936 non-null  object \n 2   Temperature (C)           96453 non-null  float64\n 3   Apparent Temperature (C)  96453 non-null  float64\n 4   Humidity                  96453 non-null  float64\n 5   Wind Speed (km/h)         96453 non-null  float64\n 6   Wind Bearing (degrees)    96453 non-null  float64\n 7   Visibility (km)           96453 non-null  float64\n 8   Pressure (millibars)      96453 non-null  float64\ndtypes: float64(7), object(2)\nmemory usage: 5.9+ MB\n"
    }
   ],
   "source": [
    "#let's have a look over our data again\n",
    "data.info(verbose=True)"
   ]
  },
  {
   "cell_type": "markdown",
   "metadata": {},
   "source": [
    "### we can see there are some nan values in 'Precip Type' "
   ]
  },
  {
   "cell_type": "code",
   "execution_count": 7,
   "metadata": {},
   "outputs": [
    {
     "output_type": "execute_result",
     "data": {
      "text/plain": "array(['rain', 'snow', nan], dtype=object)"
     },
     "metadata": {},
     "execution_count": 7
    }
   ],
   "source": [
    "data['Precip Type'].unique()    \n"
   ]
  },
  {
   "cell_type": "code",
   "execution_count": 8,
   "metadata": {},
   "outputs": [
    {
     "output_type": "execute_result",
     "data": {
      "text/plain": "517"
     },
     "metadata": {},
     "execution_count": 8
    }
   ],
   "source": [
    "data['Precip Type'].isnull().sum()"
   ]
  },
  {
   "cell_type": "code",
   "execution_count": 9,
   "metadata": {},
   "outputs": [],
   "source": [
    "# we can't assign values to these nan's as it might affect the ordinality.\n",
    "data.drop(['Precip Type'],axis=1,inplace=True)"
   ]
  },
  {
   "cell_type": "markdown",
   "metadata": {},
   "source": [
    "##### Now let's seperate X,Y and do label encoding for 'Summary'"
   ]
  },
  {
   "cell_type": "code",
   "execution_count": 10,
   "metadata": {},
   "outputs": [
    {
     "output_type": "execute_result",
     "data": {
      "text/plain": "array(['Partly Cloudy', 'Mostly Cloudy', 'Overcast', 'Foggy',\n       'Breezy and Mostly Cloudy', 'Clear', 'Breezy and Partly Cloudy',\n       'Breezy and Overcast', 'Humid and Mostly Cloudy',\n       'Humid and Partly Cloudy', 'Windy and Foggy', 'Windy and Overcast',\n       'Breezy and Foggy', 'Windy and Partly Cloudy', 'Breezy',\n       'Dry and Partly Cloudy', 'Windy and Mostly Cloudy',\n       'Dangerously Windy and Partly Cloudy', 'Dry', 'Windy',\n       'Humid and Overcast', 'Light Rain', 'Drizzle', 'Windy and Dry',\n       'Dry and Mostly Cloudy', 'Breezy and Dry', 'Rain'], dtype=object)"
     },
     "metadata": {},
     "execution_count": 10
    }
   ],
   "source": [
    "unique=data[\"Summary\"].unique()\n",
    "unique"
   ]
  },
  {
   "cell_type": "code",
   "execution_count": 11,
   "metadata": {},
   "outputs": [],
   "source": [
    "le=LabelEncoder()\n",
    "data['Summary']=le.fit_transform(data['Summary'])\n",
    "\n"
   ]
  },
  {
   "cell_type": "code",
   "execution_count": 12,
   "metadata": {
    "tags": []
   },
   "outputs": [],
   "source": [
    "X=data.iloc[:,1:]\n",
    "Y=data.iloc[:,0]"
   ]
  },
  {
   "cell_type": "code",
   "execution_count": 13,
   "metadata": {},
   "outputs": [],
   "source": [
    "x_train, x_test, y_train, y_test = train_test_split(X, Y, test_size=0.25, random_state=42)\n"
   ]
  },
  {
   "cell_type": "markdown",
   "metadata": {},
   "source": [
    "## Exploring the Data"
   ]
  },
  {
   "cell_type": "code",
   "execution_count": 14,
   "metadata": {
    "tags": []
   },
   "outputs": [
    {
     "output_type": "execute_result",
     "data": {
      "text/plain": "       Temperature (C)  Apparent Temperature (C)      Humidity  \\\ncount     96453.000000              96453.000000  96453.000000   \nmean         11.932678                 10.855029      0.734899   \nstd           9.551546                 10.696847      0.195473   \nmin         -21.822222                -27.716667      0.000000   \n25%           4.688889                  2.311111      0.600000   \n50%          12.000000                 12.000000      0.780000   \n75%          18.838889                 18.838889      0.890000   \nmax          39.905556                 39.344444      1.000000   \n\n       Wind Speed (km/h)  Wind Bearing (degrees)  Visibility (km)  \\\ncount       96453.000000            96453.000000     96453.000000   \nmean           10.810640              187.509232        10.347325   \nstd             6.913571              107.383428         4.192123   \nmin             0.000000                0.000000         0.000000   \n25%             5.828200              116.000000         8.339800   \n50%             9.965900              180.000000        10.046400   \n75%            14.135800              290.000000        14.812000   \nmax            63.852600              359.000000        16.100000   \n\n       Pressure (millibars)  \ncount          96453.000000  \nmean            1003.235956  \nstd              116.969906  \nmin                0.000000  \n25%             1011.900000  \n50%             1016.450000  \n75%             1021.090000  \nmax             1046.380000  ",
      "text/html": "<div>\n<style scoped>\n    .dataframe tbody tr th:only-of-type {\n        vertical-align: middle;\n    }\n\n    .dataframe tbody tr th {\n        vertical-align: top;\n    }\n\n    .dataframe thead th {\n        text-align: right;\n    }\n</style>\n<table border=\"1\" class=\"dataframe\">\n  <thead>\n    <tr style=\"text-align: right;\">\n      <th></th>\n      <th>Temperature (C)</th>\n      <th>Apparent Temperature (C)</th>\n      <th>Humidity</th>\n      <th>Wind Speed (km/h)</th>\n      <th>Wind Bearing (degrees)</th>\n      <th>Visibility (km)</th>\n      <th>Pressure (millibars)</th>\n    </tr>\n  </thead>\n  <tbody>\n    <tr>\n      <th>count</th>\n      <td>96453.000000</td>\n      <td>96453.000000</td>\n      <td>96453.000000</td>\n      <td>96453.000000</td>\n      <td>96453.000000</td>\n      <td>96453.000000</td>\n      <td>96453.000000</td>\n    </tr>\n    <tr>\n      <th>mean</th>\n      <td>11.932678</td>\n      <td>10.855029</td>\n      <td>0.734899</td>\n      <td>10.810640</td>\n      <td>187.509232</td>\n      <td>10.347325</td>\n      <td>1003.235956</td>\n    </tr>\n    <tr>\n      <th>std</th>\n      <td>9.551546</td>\n      <td>10.696847</td>\n      <td>0.195473</td>\n      <td>6.913571</td>\n      <td>107.383428</td>\n      <td>4.192123</td>\n      <td>116.969906</td>\n    </tr>\n    <tr>\n      <th>min</th>\n      <td>-21.822222</td>\n      <td>-27.716667</td>\n      <td>0.000000</td>\n      <td>0.000000</td>\n      <td>0.000000</td>\n      <td>0.000000</td>\n      <td>0.000000</td>\n    </tr>\n    <tr>\n      <th>25%</th>\n      <td>4.688889</td>\n      <td>2.311111</td>\n      <td>0.600000</td>\n      <td>5.828200</td>\n      <td>116.000000</td>\n      <td>8.339800</td>\n      <td>1011.900000</td>\n    </tr>\n    <tr>\n      <th>50%</th>\n      <td>12.000000</td>\n      <td>12.000000</td>\n      <td>0.780000</td>\n      <td>9.965900</td>\n      <td>180.000000</td>\n      <td>10.046400</td>\n      <td>1016.450000</td>\n    </tr>\n    <tr>\n      <th>75%</th>\n      <td>18.838889</td>\n      <td>18.838889</td>\n      <td>0.890000</td>\n      <td>14.135800</td>\n      <td>290.000000</td>\n      <td>14.812000</td>\n      <td>1021.090000</td>\n    </tr>\n    <tr>\n      <th>max</th>\n      <td>39.905556</td>\n      <td>39.344444</td>\n      <td>1.000000</td>\n      <td>63.852600</td>\n      <td>359.000000</td>\n      <td>16.100000</td>\n      <td>1046.380000</td>\n    </tr>\n  </tbody>\n</table>\n</div>"
     },
     "metadata": {},
     "execution_count": 14
    }
   ],
   "source": [
    "X.describe()"
   ]
  },
  {
   "cell_type": "code",
   "execution_count": 15,
   "metadata": {},
   "outputs": [
    {
     "output_type": "execute_result",
     "data": {
      "text/plain": "                          Temperature (C)  Apparent Temperature (C)  Humidity  \\\nTemperature (C)                  1.000000                  0.992629 -0.632255   \nApparent Temperature (C)         0.992629                  1.000000 -0.602571   \nHumidity                        -0.632255                 -0.602571  1.000000   \nWind Speed (km/h)                0.008957                 -0.056650 -0.224951   \nWind Bearing (degrees)           0.029988                  0.029031  0.000735   \nVisibility (km)                  0.392847                  0.381718 -0.369173   \nPressure (millibars)            -0.005447                 -0.000219  0.005454   \n\n                          Wind Speed (km/h)  Wind Bearing (degrees)  \\\nTemperature (C)                    0.008957                0.029988   \nApparent Temperature (C)          -0.056650                0.029031   \nHumidity                          -0.224951                0.000735   \nWind Speed (km/h)                  1.000000                0.103822   \nWind Bearing (degrees)             0.103822                1.000000   \nVisibility (km)                    0.100749                0.047594   \nPressure (millibars)              -0.049263               -0.011651   \n\n                          Visibility (km)  Pressure (millibars)  \nTemperature (C)                  0.392847             -0.005447  \nApparent Temperature (C)         0.381718             -0.000219  \nHumidity                        -0.369173              0.005454  \nWind Speed (km/h)                0.100749             -0.049263  \nWind Bearing (degrees)           0.047594             -0.011651  \nVisibility (km)                  1.000000              0.059818  \nPressure (millibars)             0.059818              1.000000  ",
      "text/html": "<div>\n<style scoped>\n    .dataframe tbody tr th:only-of-type {\n        vertical-align: middle;\n    }\n\n    .dataframe tbody tr th {\n        vertical-align: top;\n    }\n\n    .dataframe thead th {\n        text-align: right;\n    }\n</style>\n<table border=\"1\" class=\"dataframe\">\n  <thead>\n    <tr style=\"text-align: right;\">\n      <th></th>\n      <th>Temperature (C)</th>\n      <th>Apparent Temperature (C)</th>\n      <th>Humidity</th>\n      <th>Wind Speed (km/h)</th>\n      <th>Wind Bearing (degrees)</th>\n      <th>Visibility (km)</th>\n      <th>Pressure (millibars)</th>\n    </tr>\n  </thead>\n  <tbody>\n    <tr>\n      <th>Temperature (C)</th>\n      <td>1.000000</td>\n      <td>0.992629</td>\n      <td>-0.632255</td>\n      <td>0.008957</td>\n      <td>0.029988</td>\n      <td>0.392847</td>\n      <td>-0.005447</td>\n    </tr>\n    <tr>\n      <th>Apparent Temperature (C)</th>\n      <td>0.992629</td>\n      <td>1.000000</td>\n      <td>-0.602571</td>\n      <td>-0.056650</td>\n      <td>0.029031</td>\n      <td>0.381718</td>\n      <td>-0.000219</td>\n    </tr>\n    <tr>\n      <th>Humidity</th>\n      <td>-0.632255</td>\n      <td>-0.602571</td>\n      <td>1.000000</td>\n      <td>-0.224951</td>\n      <td>0.000735</td>\n      <td>-0.369173</td>\n      <td>0.005454</td>\n    </tr>\n    <tr>\n      <th>Wind Speed (km/h)</th>\n      <td>0.008957</td>\n      <td>-0.056650</td>\n      <td>-0.224951</td>\n      <td>1.000000</td>\n      <td>0.103822</td>\n      <td>0.100749</td>\n      <td>-0.049263</td>\n    </tr>\n    <tr>\n      <th>Wind Bearing (degrees)</th>\n      <td>0.029988</td>\n      <td>0.029031</td>\n      <td>0.000735</td>\n      <td>0.103822</td>\n      <td>1.000000</td>\n      <td>0.047594</td>\n      <td>-0.011651</td>\n    </tr>\n    <tr>\n      <th>Visibility (km)</th>\n      <td>0.392847</td>\n      <td>0.381718</td>\n      <td>-0.369173</td>\n      <td>0.100749</td>\n      <td>0.047594</td>\n      <td>1.000000</td>\n      <td>0.059818</td>\n    </tr>\n    <tr>\n      <th>Pressure (millibars)</th>\n      <td>-0.005447</td>\n      <td>-0.000219</td>\n      <td>0.005454</td>\n      <td>-0.049263</td>\n      <td>-0.011651</td>\n      <td>0.059818</td>\n      <td>1.000000</td>\n    </tr>\n  </tbody>\n</table>\n</div>"
     },
     "metadata": {},
     "execution_count": 15
    }
   ],
   "source": [
    "X.corr()"
   ]
  },
  {
   "cell_type": "code",
   "execution_count": 16,
   "metadata": {},
   "outputs": [],
   "source": [
    "#correlation between 'Temperature' and 'Apparent Temperature (C)' is almost close to 1. so we can drop one 'Apparent Temperature (C)'\n",
    "X.drop(['Apparent Temperature (C)'],axis=1,inplace=True)"
   ]
  },
  {
   "cell_type": "code",
   "execution_count": 17,
   "metadata": {},
   "outputs": [
    {
     "output_type": "execute_result",
     "data": {
      "text/plain": "       Temperature (C)  Humidity  Wind Speed (km/h)  Wind Bearing (degrees)  \\\n0             9.472222      0.89            14.1197                   251.0   \n1             9.355556      0.86            14.2646                   259.0   \n2             9.377778      0.89             3.9284                   204.0   \n3             8.288889      0.83            14.1036                   269.0   \n4             8.755556      0.83            11.0446                   259.0   \n...                ...       ...                ...                     ...   \n96448        26.016667      0.43            10.9963                    31.0   \n96449        24.583333      0.48            10.0947                    20.0   \n96450        22.038889      0.56             8.9838                    30.0   \n96451        21.522222      0.60            10.5294                    20.0   \n96452        20.438889      0.61             5.8765                    39.0   \n\n       Visibility (km)  Pressure (millibars)  \n0              15.8263               1015.13  \n1              15.8263               1015.63  \n2              14.9569               1015.94  \n3              15.8263               1016.41  \n4              15.8263               1016.51  \n...                ...                   ...  \n96448          16.1000               1014.36  \n96449          15.5526               1015.16  \n96450          16.1000               1015.66  \n96451          16.1000               1015.95  \n96452          15.5204               1016.16  \n\n[96453 rows x 6 columns]",
      "text/html": "<div>\n<style scoped>\n    .dataframe tbody tr th:only-of-type {\n        vertical-align: middle;\n    }\n\n    .dataframe tbody tr th {\n        vertical-align: top;\n    }\n\n    .dataframe thead th {\n        text-align: right;\n    }\n</style>\n<table border=\"1\" class=\"dataframe\">\n  <thead>\n    <tr style=\"text-align: right;\">\n      <th></th>\n      <th>Temperature (C)</th>\n      <th>Humidity</th>\n      <th>Wind Speed (km/h)</th>\n      <th>Wind Bearing (degrees)</th>\n      <th>Visibility (km)</th>\n      <th>Pressure (millibars)</th>\n    </tr>\n  </thead>\n  <tbody>\n    <tr>\n      <th>0</th>\n      <td>9.472222</td>\n      <td>0.89</td>\n      <td>14.1197</td>\n      <td>251.0</td>\n      <td>15.8263</td>\n      <td>1015.13</td>\n    </tr>\n    <tr>\n      <th>1</th>\n      <td>9.355556</td>\n      <td>0.86</td>\n      <td>14.2646</td>\n      <td>259.0</td>\n      <td>15.8263</td>\n      <td>1015.63</td>\n    </tr>\n    <tr>\n      <th>2</th>\n      <td>9.377778</td>\n      <td>0.89</td>\n      <td>3.9284</td>\n      <td>204.0</td>\n      <td>14.9569</td>\n      <td>1015.94</td>\n    </tr>\n    <tr>\n      <th>3</th>\n      <td>8.288889</td>\n      <td>0.83</td>\n      <td>14.1036</td>\n      <td>269.0</td>\n      <td>15.8263</td>\n      <td>1016.41</td>\n    </tr>\n    <tr>\n      <th>4</th>\n      <td>8.755556</td>\n      <td>0.83</td>\n      <td>11.0446</td>\n      <td>259.0</td>\n      <td>15.8263</td>\n      <td>1016.51</td>\n    </tr>\n    <tr>\n      <th>...</th>\n      <td>...</td>\n      <td>...</td>\n      <td>...</td>\n      <td>...</td>\n      <td>...</td>\n      <td>...</td>\n    </tr>\n    <tr>\n      <th>96448</th>\n      <td>26.016667</td>\n      <td>0.43</td>\n      <td>10.9963</td>\n      <td>31.0</td>\n      <td>16.1000</td>\n      <td>1014.36</td>\n    </tr>\n    <tr>\n      <th>96449</th>\n      <td>24.583333</td>\n      <td>0.48</td>\n      <td>10.0947</td>\n      <td>20.0</td>\n      <td>15.5526</td>\n      <td>1015.16</td>\n    </tr>\n    <tr>\n      <th>96450</th>\n      <td>22.038889</td>\n      <td>0.56</td>\n      <td>8.9838</td>\n      <td>30.0</td>\n      <td>16.1000</td>\n      <td>1015.66</td>\n    </tr>\n    <tr>\n      <th>96451</th>\n      <td>21.522222</td>\n      <td>0.60</td>\n      <td>10.5294</td>\n      <td>20.0</td>\n      <td>16.1000</td>\n      <td>1015.95</td>\n    </tr>\n    <tr>\n      <th>96452</th>\n      <td>20.438889</td>\n      <td>0.61</td>\n      <td>5.8765</td>\n      <td>39.0</td>\n      <td>15.5204</td>\n      <td>1016.16</td>\n    </tr>\n  </tbody>\n</table>\n<p>96453 rows × 6 columns</p>\n</div>"
     },
     "metadata": {},
     "execution_count": 17
    }
   ],
   "source": [
    "X"
   ]
  },
  {
   "cell_type": "code",
   "execution_count": 25,
   "metadata": {},
   "outputs": [],
   "source": [
    "# Let's, apply Z-score normalization to our data \n",
    "scaler=StandardScaler()\n",
    "scaled_values=scaler.fit_transform(X.values)\n",
    "Xs=pd.DataFrame(scaled_values,index=X.index,columns=X.columns)\n"
   ]
  },
  {
   "cell_type": "code",
   "execution_count": 26,
   "metadata": {},
   "outputs": [
    {
     "output_type": "execute_result",
     "data": {
      "text/plain": "       Temperature (C)  Humidity  Wind Speed (km/h)  Wind Bearing (degrees)  \\\n0            -0.257599  0.793470           0.478635                0.591256   \n1            -0.269814  0.639996           0.499594                0.665756   \n2            -0.267487  0.793470          -0.995473                0.153570   \n3            -0.381489  0.486521           0.476306                0.758881   \n4            -0.332631  0.486521           0.033841                0.665756   \n...                ...       ...                ...                     ...   \n96448         1.474532 -1.559811           0.026855               -1.457488   \n96449         1.324468 -1.304020          -0.103556               -1.559925   \n96450         1.058076 -0.894753          -0.264241               -1.466800   \n96451         1.003983 -0.690120          -0.040680               -1.559925   \n96452         0.890563 -0.638962          -0.713693               -1.382988   \n\n       Visibility (km)  Pressure (millibars)  \n0             1.306976              0.101685  \n1             1.306976              0.105960  \n2             1.099586              0.108610  \n3             1.306976              0.112628  \n4             1.306976              0.113483  \n...                ...                   ...  \n96448         1.372265              0.095102  \n96449         1.241686              0.101942  \n96450         1.372265              0.106216  \n96451         1.372265              0.108696  \n96452         1.234005              0.110491  \n\n[96453 rows x 6 columns]",
      "text/html": "<div>\n<style scoped>\n    .dataframe tbody tr th:only-of-type {\n        vertical-align: middle;\n    }\n\n    .dataframe tbody tr th {\n        vertical-align: top;\n    }\n\n    .dataframe thead th {\n        text-align: right;\n    }\n</style>\n<table border=\"1\" class=\"dataframe\">\n  <thead>\n    <tr style=\"text-align: right;\">\n      <th></th>\n      <th>Temperature (C)</th>\n      <th>Humidity</th>\n      <th>Wind Speed (km/h)</th>\n      <th>Wind Bearing (degrees)</th>\n      <th>Visibility (km)</th>\n      <th>Pressure (millibars)</th>\n    </tr>\n  </thead>\n  <tbody>\n    <tr>\n      <th>0</th>\n      <td>-0.257599</td>\n      <td>0.793470</td>\n      <td>0.478635</td>\n      <td>0.591256</td>\n      <td>1.306976</td>\n      <td>0.101685</td>\n    </tr>\n    <tr>\n      <th>1</th>\n      <td>-0.269814</td>\n      <td>0.639996</td>\n      <td>0.499594</td>\n      <td>0.665756</td>\n      <td>1.306976</td>\n      <td>0.105960</td>\n    </tr>\n    <tr>\n      <th>2</th>\n      <td>-0.267487</td>\n      <td>0.793470</td>\n      <td>-0.995473</td>\n      <td>0.153570</td>\n      <td>1.099586</td>\n      <td>0.108610</td>\n    </tr>\n    <tr>\n      <th>3</th>\n      <td>-0.381489</td>\n      <td>0.486521</td>\n      <td>0.476306</td>\n      <td>0.758881</td>\n      <td>1.306976</td>\n      <td>0.112628</td>\n    </tr>\n    <tr>\n      <th>4</th>\n      <td>-0.332631</td>\n      <td>0.486521</td>\n      <td>0.033841</td>\n      <td>0.665756</td>\n      <td>1.306976</td>\n      <td>0.113483</td>\n    </tr>\n    <tr>\n      <th>...</th>\n      <td>...</td>\n      <td>...</td>\n      <td>...</td>\n      <td>...</td>\n      <td>...</td>\n      <td>...</td>\n    </tr>\n    <tr>\n      <th>96448</th>\n      <td>1.474532</td>\n      <td>-1.559811</td>\n      <td>0.026855</td>\n      <td>-1.457488</td>\n      <td>1.372265</td>\n      <td>0.095102</td>\n    </tr>\n    <tr>\n      <th>96449</th>\n      <td>1.324468</td>\n      <td>-1.304020</td>\n      <td>-0.103556</td>\n      <td>-1.559925</td>\n      <td>1.241686</td>\n      <td>0.101942</td>\n    </tr>\n    <tr>\n      <th>96450</th>\n      <td>1.058076</td>\n      <td>-0.894753</td>\n      <td>-0.264241</td>\n      <td>-1.466800</td>\n      <td>1.372265</td>\n      <td>0.106216</td>\n    </tr>\n    <tr>\n      <th>96451</th>\n      <td>1.003983</td>\n      <td>-0.690120</td>\n      <td>-0.040680</td>\n      <td>-1.559925</td>\n      <td>1.372265</td>\n      <td>0.108696</td>\n    </tr>\n    <tr>\n      <th>96452</th>\n      <td>0.890563</td>\n      <td>-0.638962</td>\n      <td>-0.713693</td>\n      <td>-1.382988</td>\n      <td>1.234005</td>\n      <td>0.110491</td>\n    </tr>\n  </tbody>\n</table>\n<p>96453 rows × 6 columns</p>\n</div>"
     },
     "metadata": {},
     "execution_count": 26
    }
   ],
   "source": [
    "Xs"
   ]
  },
  {
   "cell_type": "code",
   "execution_count": 18,
   "metadata": {},
   "outputs": [
    {
     "output_type": "display_data",
     "data": {
      "text/plain": "<Figure size 432x288 with 1 Axes>",
      "image/svg+xml": "<?xml version=\"1.0\" encoding=\"utf-8\" standalone=\"no\"?>\r\n<!DOCTYPE svg PUBLIC \"-//W3C//DTD SVG 1.1//EN\"\r\n  \"http://www.w3.org/Graphics/SVG/1.1/DTD/svg11.dtd\">\r\n<!-- Created with matplotlib (https://matplotlib.org/) -->\r\n<svg height=\"248.518125pt\" version=\"1.1\" viewBox=\"0 0 388.0125 248.518125\" width=\"388.0125pt\" xmlns=\"http://www.w3.org/2000/svg\" xmlns:xlink=\"http://www.w3.org/1999/xlink\">\r\n <metadata>\r\n  <rdf:RDF xmlns:cc=\"http://creativecommons.org/ns#\" xmlns:dc=\"http://purl.org/dc/elements/1.1/\" xmlns:rdf=\"http://www.w3.org/1999/02/22-rdf-syntax-ns#\">\r\n   <cc:Work>\r\n    <dc:type rdf:resource=\"http://purl.org/dc/dcmitype/StillImage\"/>\r\n    <dc:date>2020-08-26T09:50:39.338169</dc:date>\r\n    <dc:format>image/svg+xml</dc:format>\r\n    <dc:creator>\r\n     <cc:Agent>\r\n      <dc:title>Matplotlib v3.3.1, https://matplotlib.org/</dc:title>\r\n     </cc:Agent>\r\n    </dc:creator>\r\n   </cc:Work>\r\n  </rdf:RDF>\r\n </metadata>\r\n <defs>\r\n  <style type=\"text/css\">*{stroke-linecap:butt;stroke-linejoin:round;}</style>\r\n </defs>\r\n <g id=\"figure_1\">\r\n  <g id=\"patch_1\">\r\n   <path d=\"M 0 248.518125 \r\nL 388.0125 248.518125 \r\nL 388.0125 0 \r\nL 0 0 \r\nz\r\n\" style=\"fill:none;\"/>\r\n  </g>\r\n  <g id=\"axes_1\">\r\n   <g id=\"patch_2\">\r\n    <path d=\"M 46.0125 224.64 \r\nL 380.8125 224.64 \r\nL 380.8125 7.2 \r\nL 46.0125 7.2 \r\nz\r\n\" style=\"fill:#ffffff;\"/>\r\n   </g>\r\n   <g id=\"patch_3\">\r\n    <path clip-path=\"url(#p367f00cb1d)\" d=\"M 61.230682 224.64 \r\nL 91.667045 224.64 \r\nL 91.667045 224.094426 \r\nL 61.230682 224.094426 \r\nz\r\n\" style=\"fill:#0000ff;stroke:#000000;stroke-linejoin:miter;\"/>\r\n   </g>\r\n   <g id=\"patch_4\">\r\n    <path clip-path=\"url(#p367f00cb1d)\" d=\"M 91.667045 224.64 \r\nL 122.103409 224.64 \r\nL 122.103409 219.649009 \r\nL 91.667045 219.649009 \r\nz\r\n\" style=\"fill:#0000ff;stroke:#000000;stroke-linejoin:miter;\"/>\r\n   </g>\r\n   <g id=\"patch_5\">\r\n    <path clip-path=\"url(#p367f00cb1d)\" d=\"M 122.103409 224.64 \r\nL 152.539773 224.64 \r\nL 152.539773 188.773567 \r\nL 122.103409 188.773567 \r\nz\r\n\" style=\"fill:#0000ff;stroke:#000000;stroke-linejoin:miter;\"/>\r\n   </g>\r\n   <g id=\"patch_6\">\r\n    <path clip-path=\"url(#p367f00cb1d)\" d=\"M 152.539773 224.64 \r\nL 182.976136 224.64 \r\nL 182.976136 69.080711 \r\nL 152.539773 69.080711 \r\nz\r\n\" style=\"fill:#0000ff;stroke:#000000;stroke-linejoin:miter;\"/>\r\n   </g>\r\n   <g id=\"patch_7\">\r\n    <path clip-path=\"url(#p367f00cb1d)\" d=\"M 182.976136 224.64 \r\nL 213.4125 224.64 \r\nL 213.4125 17.554286 \r\nL 182.976136 17.554286 \r\nz\r\n\" style=\"fill:#0000ff;stroke:#000000;stroke-linejoin:miter;\"/>\r\n   </g>\r\n   <g id=\"patch_8\">\r\n    <path clip-path=\"url(#p367f00cb1d)\" d=\"M 213.4125 224.64 \r\nL 243.848864 224.64 \r\nL 243.848864 19.322349 \r\nL 213.4125 19.322349 \r\nz\r\n\" style=\"fill:#0000ff;stroke:#000000;stroke-linejoin:miter;\"/>\r\n   </g>\r\n   <g id=\"patch_9\">\r\n    <path clip-path=\"url(#p367f00cb1d)\" d=\"M 243.848864 224.64 \r\nL 274.285227 224.64 \r\nL 274.285227 29.789286 \r\nL 243.848864 29.789286 \r\nz\r\n\" style=\"fill:#0000ff;stroke:#000000;stroke-linejoin:miter;\"/>\r\n   </g>\r\n   <g id=\"patch_10\">\r\n    <path clip-path=\"url(#p367f00cb1d)\" d=\"M 274.285227 224.64 \r\nL 304.721591 224.64 \r\nL 304.721591 110.130097 \r\nL 274.285227 110.130097 \r\nz\r\n\" style=\"fill:#0000ff;stroke:#000000;stroke-linejoin:miter;\"/>\r\n   </g>\r\n   <g id=\"patch_11\">\r\n    <path clip-path=\"url(#p367f00cb1d)\" d=\"M 304.721591 224.64 \r\nL 335.157955 224.64 \r\nL 335.157955 175.811134 \r\nL 304.721591 175.811134 \r\nz\r\n\" style=\"fill:#0000ff;stroke:#000000;stroke-linejoin:miter;\"/>\r\n   </g>\r\n   <g id=\"patch_12\">\r\n    <path clip-path=\"url(#p367f00cb1d)\" d=\"M 335.157955 224.64 \r\nL 365.594318 224.64 \r\nL 365.594318 217.709191 \r\nL 335.157955 217.709191 \r\nz\r\n\" style=\"fill:#0000ff;stroke:#000000;stroke-linejoin:miter;\"/>\r\n   </g>\r\n   <g id=\"matplotlib.axis_1\">\r\n    <g id=\"xtick_1\">\r\n     <g id=\"line2d_1\">\r\n      <defs>\r\n       <path d=\"M 0 0 \r\nL 0 3.5 \r\n\" id=\"m5c1b742c2e\" style=\"stroke:#000000;stroke-width:0.8;\"/>\r\n      </defs>\r\n      <g>\r\n       <use style=\"stroke:#000000;stroke-width:0.8;\" x=\"70.215586\" xlink:href=\"#m5c1b742c2e\" y=\"224.64\"/>\r\n      </g>\r\n     </g>\r\n     <g id=\"text_1\">\r\n      <!-- −20 -->\r\n      <g transform=\"translate(59.663242 239.238437)scale(0.1 -0.1)\">\r\n       <defs>\r\n        <path d=\"M 10.59375 35.5 \r\nL 73.1875 35.5 \r\nL 73.1875 27.203125 \r\nL 10.59375 27.203125 \r\nz\r\n\" id=\"DejaVuSans-8722\"/>\r\n        <path d=\"M 19.1875 8.296875 \r\nL 53.609375 8.296875 \r\nL 53.609375 0 \r\nL 7.328125 0 \r\nL 7.328125 8.296875 \r\nQ 12.9375 14.109375 22.625 23.890625 \r\nQ 32.328125 33.6875 34.8125 36.53125 \r\nQ 39.546875 41.84375 41.421875 45.53125 \r\nQ 43.3125 49.21875 43.3125 52.78125 \r\nQ 43.3125 58.59375 39.234375 62.25 \r\nQ 35.15625 65.921875 28.609375 65.921875 \r\nQ 23.96875 65.921875 18.8125 64.3125 \r\nQ 13.671875 62.703125 7.8125 59.421875 \r\nL 7.8125 69.390625 \r\nQ 13.765625 71.78125 18.9375 73 \r\nQ 24.125 74.21875 28.421875 74.21875 \r\nQ 39.75 74.21875 46.484375 68.546875 \r\nQ 53.21875 62.890625 53.21875 53.421875 \r\nQ 53.21875 48.921875 51.53125 44.890625 \r\nQ 49.859375 40.875 45.40625 35.40625 \r\nQ 44.1875 33.984375 37.640625 27.21875 \r\nQ 31.109375 20.453125 19.1875 8.296875 \r\nz\r\n\" id=\"DejaVuSans-50\"/>\r\n        <path d=\"M 31.78125 66.40625 \r\nQ 24.171875 66.40625 20.328125 58.90625 \r\nQ 16.5 51.421875 16.5 36.375 \r\nQ 16.5 21.390625 20.328125 13.890625 \r\nQ 24.171875 6.390625 31.78125 6.390625 \r\nQ 39.453125 6.390625 43.28125 13.890625 \r\nQ 47.125 21.390625 47.125 36.375 \r\nQ 47.125 51.421875 43.28125 58.90625 \r\nQ 39.453125 66.40625 31.78125 66.40625 \r\nz\r\nM 31.78125 74.21875 \r\nQ 44.046875 74.21875 50.515625 64.515625 \r\nQ 56.984375 54.828125 56.984375 36.375 \r\nQ 56.984375 17.96875 50.515625 8.265625 \r\nQ 44.046875 -1.421875 31.78125 -1.421875 \r\nQ 19.53125 -1.421875 13.0625 8.265625 \r\nQ 6.59375 17.96875 6.59375 36.375 \r\nQ 6.59375 54.828125 13.0625 64.515625 \r\nQ 19.53125 74.21875 31.78125 74.21875 \r\nz\r\n\" id=\"DejaVuSans-48\"/>\r\n       </defs>\r\n       <use xlink:href=\"#DejaVuSans-8722\"/>\r\n       <use x=\"83.789062\" xlink:href=\"#DejaVuSans-50\"/>\r\n       <use x=\"147.412109\" xlink:href=\"#DejaVuSans-48\"/>\r\n      </g>\r\n     </g>\r\n    </g>\r\n    <g id=\"xtick_2\">\r\n     <g id=\"line2d_2\">\r\n      <g>\r\n       <use style=\"stroke:#000000;stroke-width:0.8;\" x=\"119.522988\" xlink:href=\"#m5c1b742c2e\" y=\"224.64\"/>\r\n      </g>\r\n     </g>\r\n     <g id=\"text_2\">\r\n      <!-- −10 -->\r\n      <g transform=\"translate(108.970645 239.238437)scale(0.1 -0.1)\">\r\n       <defs>\r\n        <path d=\"M 12.40625 8.296875 \r\nL 28.515625 8.296875 \r\nL 28.515625 63.921875 \r\nL 10.984375 60.40625 \r\nL 10.984375 69.390625 \r\nL 28.421875 72.90625 \r\nL 38.28125 72.90625 \r\nL 38.28125 8.296875 \r\nL 54.390625 8.296875 \r\nL 54.390625 0 \r\nL 12.40625 0 \r\nz\r\n\" id=\"DejaVuSans-49\"/>\r\n       </defs>\r\n       <use xlink:href=\"#DejaVuSans-8722\"/>\r\n       <use x=\"83.789062\" xlink:href=\"#DejaVuSans-49\"/>\r\n       <use x=\"147.412109\" xlink:href=\"#DejaVuSans-48\"/>\r\n      </g>\r\n     </g>\r\n    </g>\r\n    <g id=\"xtick_3\">\r\n     <g id=\"line2d_3\">\r\n      <g>\r\n       <use style=\"stroke:#000000;stroke-width:0.8;\" x=\"168.830391\" xlink:href=\"#m5c1b742c2e\" y=\"224.64\"/>\r\n      </g>\r\n     </g>\r\n     <g id=\"text_3\">\r\n      <!-- 0 -->\r\n      <g transform=\"translate(165.649141 239.238437)scale(0.1 -0.1)\">\r\n       <use xlink:href=\"#DejaVuSans-48\"/>\r\n      </g>\r\n     </g>\r\n    </g>\r\n    <g id=\"xtick_4\">\r\n     <g id=\"line2d_4\">\r\n      <g>\r\n       <use style=\"stroke:#000000;stroke-width:0.8;\" x=\"218.137793\" xlink:href=\"#m5c1b742c2e\" y=\"224.64\"/>\r\n      </g>\r\n     </g>\r\n     <g id=\"text_4\">\r\n      <!-- 10 -->\r\n      <g transform=\"translate(211.775293 239.238437)scale(0.1 -0.1)\">\r\n       <use xlink:href=\"#DejaVuSans-49\"/>\r\n       <use x=\"63.623047\" xlink:href=\"#DejaVuSans-48\"/>\r\n      </g>\r\n     </g>\r\n    </g>\r\n    <g id=\"xtick_5\">\r\n     <g id=\"line2d_5\">\r\n      <g>\r\n       <use style=\"stroke:#000000;stroke-width:0.8;\" x=\"267.445195\" xlink:href=\"#m5c1b742c2e\" y=\"224.64\"/>\r\n      </g>\r\n     </g>\r\n     <g id=\"text_5\">\r\n      <!-- 20 -->\r\n      <g transform=\"translate(261.082695 239.238437)scale(0.1 -0.1)\">\r\n       <use xlink:href=\"#DejaVuSans-50\"/>\r\n       <use x=\"63.623047\" xlink:href=\"#DejaVuSans-48\"/>\r\n      </g>\r\n     </g>\r\n    </g>\r\n    <g id=\"xtick_6\">\r\n     <g id=\"line2d_6\">\r\n      <g>\r\n       <use style=\"stroke:#000000;stroke-width:0.8;\" x=\"316.752597\" xlink:href=\"#m5c1b742c2e\" y=\"224.64\"/>\r\n      </g>\r\n     </g>\r\n     <g id=\"text_6\">\r\n      <!-- 30 -->\r\n      <g transform=\"translate(310.390097 239.238437)scale(0.1 -0.1)\">\r\n       <defs>\r\n        <path d=\"M 40.578125 39.3125 \r\nQ 47.65625 37.796875 51.625 33 \r\nQ 55.609375 28.21875 55.609375 21.1875 \r\nQ 55.609375 10.40625 48.1875 4.484375 \r\nQ 40.765625 -1.421875 27.09375 -1.421875 \r\nQ 22.515625 -1.421875 17.65625 -0.515625 \r\nQ 12.796875 0.390625 7.625 2.203125 \r\nL 7.625 11.71875 \r\nQ 11.71875 9.328125 16.59375 8.109375 \r\nQ 21.484375 6.890625 26.8125 6.890625 \r\nQ 36.078125 6.890625 40.9375 10.546875 \r\nQ 45.796875 14.203125 45.796875 21.1875 \r\nQ 45.796875 27.640625 41.28125 31.265625 \r\nQ 36.765625 34.90625 28.71875 34.90625 \r\nL 20.21875 34.90625 \r\nL 20.21875 43.015625 \r\nL 29.109375 43.015625 \r\nQ 36.375 43.015625 40.234375 45.921875 \r\nQ 44.09375 48.828125 44.09375 54.296875 \r\nQ 44.09375 59.90625 40.109375 62.90625 \r\nQ 36.140625 65.921875 28.71875 65.921875 \r\nQ 24.65625 65.921875 20.015625 65.03125 \r\nQ 15.375 64.15625 9.8125 62.3125 \r\nL 9.8125 71.09375 \r\nQ 15.4375 72.65625 20.34375 73.4375 \r\nQ 25.25 74.21875 29.59375 74.21875 \r\nQ 40.828125 74.21875 47.359375 69.109375 \r\nQ 53.90625 64.015625 53.90625 55.328125 \r\nQ 53.90625 49.265625 50.4375 45.09375 \r\nQ 46.96875 40.921875 40.578125 39.3125 \r\nz\r\n\" id=\"DejaVuSans-51\"/>\r\n       </defs>\r\n       <use xlink:href=\"#DejaVuSans-51\"/>\r\n       <use x=\"63.623047\" xlink:href=\"#DejaVuSans-48\"/>\r\n      </g>\r\n     </g>\r\n    </g>\r\n    <g id=\"xtick_7\">\r\n     <g id=\"line2d_7\">\r\n      <g>\r\n       <use style=\"stroke:#000000;stroke-width:0.8;\" x=\"366.059999\" xlink:href=\"#m5c1b742c2e\" y=\"224.64\"/>\r\n      </g>\r\n     </g>\r\n     <g id=\"text_7\">\r\n      <!-- 40 -->\r\n      <g transform=\"translate(359.697499 239.238437)scale(0.1 -0.1)\">\r\n       <defs>\r\n        <path d=\"M 37.796875 64.3125 \r\nL 12.890625 25.390625 \r\nL 37.796875 25.390625 \r\nz\r\nM 35.203125 72.90625 \r\nL 47.609375 72.90625 \r\nL 47.609375 25.390625 \r\nL 58.015625 25.390625 \r\nL 58.015625 17.1875 \r\nL 47.609375 17.1875 \r\nL 47.609375 0 \r\nL 37.796875 0 \r\nL 37.796875 17.1875 \r\nL 4.890625 17.1875 \r\nL 4.890625 26.703125 \r\nz\r\n\" id=\"DejaVuSans-52\"/>\r\n       </defs>\r\n       <use xlink:href=\"#DejaVuSans-52\"/>\r\n       <use x=\"63.623047\" xlink:href=\"#DejaVuSans-48\"/>\r\n      </g>\r\n     </g>\r\n    </g>\r\n   </g>\r\n   <g id=\"matplotlib.axis_2\">\r\n    <g id=\"ytick_1\">\r\n     <g id=\"line2d_8\">\r\n      <defs>\r\n       <path d=\"M 0 0 \r\nL -3.5 0 \r\n\" id=\"m7e4599e7db\" style=\"stroke:#000000;stroke-width:0.8;\"/>\r\n      </defs>\r\n      <g>\r\n       <use style=\"stroke:#000000;stroke-width:0.8;\" x=\"46.0125\" xlink:href=\"#m7e4599e7db\" y=\"224.64\"/>\r\n      </g>\r\n     </g>\r\n     <g id=\"text_8\">\r\n      <!-- 0 -->\r\n      <g transform=\"translate(32.65 228.439219)scale(0.1 -0.1)\">\r\n       <use xlink:href=\"#DejaVuSans-48\"/>\r\n      </g>\r\n     </g>\r\n    </g>\r\n    <g id=\"ytick_2\">\r\n     <g id=\"line2d_9\">\r\n      <g>\r\n       <use style=\"stroke:#000000;stroke-width:0.8;\" x=\"46.0125\" xlink:href=\"#m7e4599e7db\" y=\"199.381948\"/>\r\n      </g>\r\n     </g>\r\n     <g id=\"text_9\">\r\n      <!-- 2500 -->\r\n      <g transform=\"translate(13.5625 203.181167)scale(0.1 -0.1)\">\r\n       <defs>\r\n        <path d=\"M 10.796875 72.90625 \r\nL 49.515625 72.90625 \r\nL 49.515625 64.59375 \r\nL 19.828125 64.59375 \r\nL 19.828125 46.734375 \r\nQ 21.96875 47.46875 24.109375 47.828125 \r\nQ 26.265625 48.1875 28.421875 48.1875 \r\nQ 40.625 48.1875 47.75 41.5 \r\nQ 54.890625 34.8125 54.890625 23.390625 \r\nQ 54.890625 11.625 47.5625 5.09375 \r\nQ 40.234375 -1.421875 26.90625 -1.421875 \r\nQ 22.3125 -1.421875 17.546875 -0.640625 \r\nQ 12.796875 0.140625 7.71875 1.703125 \r\nL 7.71875 11.625 \r\nQ 12.109375 9.234375 16.796875 8.0625 \r\nQ 21.484375 6.890625 26.703125 6.890625 \r\nQ 35.15625 6.890625 40.078125 11.328125 \r\nQ 45.015625 15.765625 45.015625 23.390625 \r\nQ 45.015625 31 40.078125 35.4375 \r\nQ 35.15625 39.890625 26.703125 39.890625 \r\nQ 22.75 39.890625 18.8125 39.015625 \r\nQ 14.890625 38.140625 10.796875 36.28125 \r\nz\r\n\" id=\"DejaVuSans-53\"/>\r\n       </defs>\r\n       <use xlink:href=\"#DejaVuSans-50\"/>\r\n       <use x=\"63.623047\" xlink:href=\"#DejaVuSans-53\"/>\r\n       <use x=\"127.246094\" xlink:href=\"#DejaVuSans-48\"/>\r\n       <use x=\"190.869141\" xlink:href=\"#DejaVuSans-48\"/>\r\n      </g>\r\n     </g>\r\n    </g>\r\n    <g id=\"ytick_3\">\r\n     <g id=\"line2d_10\">\r\n      <g>\r\n       <use style=\"stroke:#000000;stroke-width:0.8;\" x=\"46.0125\" xlink:href=\"#m7e4599e7db\" y=\"174.123897\"/>\r\n      </g>\r\n     </g>\r\n     <g id=\"text_10\">\r\n      <!-- 5000 -->\r\n      <g transform=\"translate(13.5625 177.923115)scale(0.1 -0.1)\">\r\n       <use xlink:href=\"#DejaVuSans-53\"/>\r\n       <use x=\"63.623047\" xlink:href=\"#DejaVuSans-48\"/>\r\n       <use x=\"127.246094\" xlink:href=\"#DejaVuSans-48\"/>\r\n       <use x=\"190.869141\" xlink:href=\"#DejaVuSans-48\"/>\r\n      </g>\r\n     </g>\r\n    </g>\r\n    <g id=\"ytick_4\">\r\n     <g id=\"line2d_11\">\r\n      <g>\r\n       <use style=\"stroke:#000000;stroke-width:0.8;\" x=\"46.0125\" xlink:href=\"#m7e4599e7db\" y=\"148.865845\"/>\r\n      </g>\r\n     </g>\r\n     <g id=\"text_11\">\r\n      <!-- 7500 -->\r\n      <g transform=\"translate(13.5625 152.665064)scale(0.1 -0.1)\">\r\n       <defs>\r\n        <path d=\"M 8.203125 72.90625 \r\nL 55.078125 72.90625 \r\nL 55.078125 68.703125 \r\nL 28.609375 0 \r\nL 18.3125 0 \r\nL 43.21875 64.59375 \r\nL 8.203125 64.59375 \r\nz\r\n\" id=\"DejaVuSans-55\"/>\r\n       </defs>\r\n       <use xlink:href=\"#DejaVuSans-55\"/>\r\n       <use x=\"63.623047\" xlink:href=\"#DejaVuSans-53\"/>\r\n       <use x=\"127.246094\" xlink:href=\"#DejaVuSans-48\"/>\r\n       <use x=\"190.869141\" xlink:href=\"#DejaVuSans-48\"/>\r\n      </g>\r\n     </g>\r\n    </g>\r\n    <g id=\"ytick_5\">\r\n     <g id=\"line2d_12\">\r\n      <g>\r\n       <use style=\"stroke:#000000;stroke-width:0.8;\" x=\"46.0125\" xlink:href=\"#m7e4599e7db\" y=\"123.607793\"/>\r\n      </g>\r\n     </g>\r\n     <g id=\"text_12\">\r\n      <!-- 10000 -->\r\n      <g transform=\"translate(7.2 127.407012)scale(0.1 -0.1)\">\r\n       <use xlink:href=\"#DejaVuSans-49\"/>\r\n       <use x=\"63.623047\" xlink:href=\"#DejaVuSans-48\"/>\r\n       <use x=\"127.246094\" xlink:href=\"#DejaVuSans-48\"/>\r\n       <use x=\"190.869141\" xlink:href=\"#DejaVuSans-48\"/>\r\n       <use x=\"254.492188\" xlink:href=\"#DejaVuSans-48\"/>\r\n      </g>\r\n     </g>\r\n    </g>\r\n    <g id=\"ytick_6\">\r\n     <g id=\"line2d_13\">\r\n      <g>\r\n       <use style=\"stroke:#000000;stroke-width:0.8;\" x=\"46.0125\" xlink:href=\"#m7e4599e7db\" y=\"98.349741\"/>\r\n      </g>\r\n     </g>\r\n     <g id=\"text_13\">\r\n      <!-- 12500 -->\r\n      <g transform=\"translate(7.2 102.14896)scale(0.1 -0.1)\">\r\n       <use xlink:href=\"#DejaVuSans-49\"/>\r\n       <use x=\"63.623047\" xlink:href=\"#DejaVuSans-50\"/>\r\n       <use x=\"127.246094\" xlink:href=\"#DejaVuSans-53\"/>\r\n       <use x=\"190.869141\" xlink:href=\"#DejaVuSans-48\"/>\r\n       <use x=\"254.492188\" xlink:href=\"#DejaVuSans-48\"/>\r\n      </g>\r\n     </g>\r\n    </g>\r\n    <g id=\"ytick_7\">\r\n     <g id=\"line2d_14\">\r\n      <g>\r\n       <use style=\"stroke:#000000;stroke-width:0.8;\" x=\"46.0125\" xlink:href=\"#m7e4599e7db\" y=\"73.09169\"/>\r\n      </g>\r\n     </g>\r\n     <g id=\"text_14\">\r\n      <!-- 15000 -->\r\n      <g transform=\"translate(7.2 76.890909)scale(0.1 -0.1)\">\r\n       <use xlink:href=\"#DejaVuSans-49\"/>\r\n       <use x=\"63.623047\" xlink:href=\"#DejaVuSans-53\"/>\r\n       <use x=\"127.246094\" xlink:href=\"#DejaVuSans-48\"/>\r\n       <use x=\"190.869141\" xlink:href=\"#DejaVuSans-48\"/>\r\n       <use x=\"254.492188\" xlink:href=\"#DejaVuSans-48\"/>\r\n      </g>\r\n     </g>\r\n    </g>\r\n    <g id=\"ytick_8\">\r\n     <g id=\"line2d_15\">\r\n      <g>\r\n       <use style=\"stroke:#000000;stroke-width:0.8;\" x=\"46.0125\" xlink:href=\"#m7e4599e7db\" y=\"47.833638\"/>\r\n      </g>\r\n     </g>\r\n     <g id=\"text_15\">\r\n      <!-- 17500 -->\r\n      <g transform=\"translate(7.2 51.632857)scale(0.1 -0.1)\">\r\n       <use xlink:href=\"#DejaVuSans-49\"/>\r\n       <use x=\"63.623047\" xlink:href=\"#DejaVuSans-55\"/>\r\n       <use x=\"127.246094\" xlink:href=\"#DejaVuSans-53\"/>\r\n       <use x=\"190.869141\" xlink:href=\"#DejaVuSans-48\"/>\r\n       <use x=\"254.492188\" xlink:href=\"#DejaVuSans-48\"/>\r\n      </g>\r\n     </g>\r\n    </g>\r\n    <g id=\"ytick_9\">\r\n     <g id=\"line2d_16\">\r\n      <g>\r\n       <use style=\"stroke:#000000;stroke-width:0.8;\" x=\"46.0125\" xlink:href=\"#m7e4599e7db\" y=\"22.575586\"/>\r\n      </g>\r\n     </g>\r\n     <g id=\"text_16\">\r\n      <!-- 20000 -->\r\n      <g transform=\"translate(7.2 26.374805)scale(0.1 -0.1)\">\r\n       <use xlink:href=\"#DejaVuSans-50\"/>\r\n       <use x=\"63.623047\" xlink:href=\"#DejaVuSans-48\"/>\r\n       <use x=\"127.246094\" xlink:href=\"#DejaVuSans-48\"/>\r\n       <use x=\"190.869141\" xlink:href=\"#DejaVuSans-48\"/>\r\n       <use x=\"254.492188\" xlink:href=\"#DejaVuSans-48\"/>\r\n      </g>\r\n     </g>\r\n    </g>\r\n   </g>\r\n   <g id=\"patch_13\">\r\n    <path d=\"M 46.0125 224.64 \r\nL 46.0125 7.2 \r\n\" style=\"fill:none;stroke:#000000;stroke-linecap:square;stroke-linejoin:miter;stroke-width:0.8;\"/>\r\n   </g>\r\n   <g id=\"patch_14\">\r\n    <path d=\"M 380.8125 224.64 \r\nL 380.8125 7.2 \r\n\" style=\"fill:none;stroke:#000000;stroke-linecap:square;stroke-linejoin:miter;stroke-width:0.8;\"/>\r\n   </g>\r\n   <g id=\"patch_15\">\r\n    <path d=\"M 46.0125 224.64 \r\nL 380.8125 224.64 \r\n\" style=\"fill:none;stroke:#000000;stroke-linecap:square;stroke-linejoin:miter;stroke-width:0.8;\"/>\r\n   </g>\r\n   <g id=\"patch_16\">\r\n    <path d=\"M 46.0125 7.2 \r\nL 380.8125 7.2 \r\n\" style=\"fill:none;stroke:#000000;stroke-linecap:square;stroke-linejoin:miter;stroke-width:0.8;\"/>\r\n   </g>\r\n  </g>\r\n </g>\r\n <defs>\r\n  <clipPath id=\"p367f00cb1d\">\r\n   <rect height=\"217.44\" width=\"334.8\" x=\"46.0125\" y=\"7.2\"/>\r\n  </clipPath>\r\n </defs>\r\n</svg>\r\n",
      "image/png": "[encoded data removed]"
     },
     "metadata": {
      "needs_background": "light"
     }
    }
   ],
   "source": [
    "plt.hist(X['Temperature (C)'],color='blue', edgecolor='black')\n",
    "plt.show()"
   ]
  },
  {
   "cell_type": "code",
   "execution_count": null,
   "metadata": {},
   "outputs": [],
   "source": []
  },
  {
   "cell_type": "code",
   "execution_count": null,
   "metadata": {},
   "outputs": [],
   "source": []
  },
  {
   "cell_type": "code",
   "execution_count": null,
   "metadata": {},
   "outputs": [],
   "source": []
  },
  {
   "cell_type": "code",
   "execution_count": null,
   "metadata": {},
   "outputs": [],
   "source": []
  }
 ]
}