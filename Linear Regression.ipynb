{
 "metadata": {
  "language_info": {
   "codemirror_mode": {
    "name": "ipython",
    "version": 3
   },
   "file_extension": ".py",
   "mimetype": "text/x-python",
   "name": "python",
   "nbconvert_exporter": "python",
   "pygments_lexer": "ipython3",
   "version": "3.8.5-final"
  },
  "orig_nbformat": 2,
  "kernelspec": {
   "name": "python_defaultSpec_1598018429950",
   "display_name": "Python 3.7.6 64-bit ('anaconda3': conda)"
  }
 },
 "nbformat": 4,
 "nbformat_minor": 2,
 "cells": [
  {
   "cell_type": "code",
   "execution_count": 6,
   "metadata": {},
   "outputs": [],
   "source": [
    "import pandas as pd\n",
    "import numpy as np \n",
    "import matplotlib.pyplot as plt \n",
    "import seaborn as sns \n",
    "from sklearn.preprocessing import LabelEncoder\n"
   ]
  },
  {
   "cell_type": "code",
   "execution_count": 8,
   "metadata": {},
   "outputs": [],
   "source": [
    "data=pd.read_csv(\"./data/weatherHistory.csv\")\n"
   ]
  },
  {
   "cell_type": "code",
   "execution_count": 9,
   "metadata": {},
   "outputs": [
    {
     "output_type": "execute_result",
     "data": {
      "text/plain": "                  Formatted Date        Summary Precip Type  Temperature (C)  \\\n0  2006-04-01 00:00:00.000 +0200  Partly Cloudy        rain         9.472222   \n1  2006-04-01 01:00:00.000 +0200  Partly Cloudy        rain         9.355556   \n2  2006-04-01 02:00:00.000 +0200  Mostly Cloudy        rain         9.377778   \n3  2006-04-01 03:00:00.000 +0200  Partly Cloudy        rain         8.288889   \n4  2006-04-01 04:00:00.000 +0200  Mostly Cloudy        rain         8.755556   \n5  2006-04-01 05:00:00.000 +0200  Partly Cloudy        rain         9.222222   \n6  2006-04-01 06:00:00.000 +0200  Partly Cloudy        rain         7.733333   \n7  2006-04-01 07:00:00.000 +0200  Partly Cloudy        rain         8.772222   \n8  2006-04-01 08:00:00.000 +0200  Partly Cloudy        rain        10.822222   \n9  2006-04-01 09:00:00.000 +0200  Partly Cloudy        rain        13.772222   \n\n   Apparent Temperature (C)  Humidity  Wind Speed (km/h)  \\\n0                  7.388889      0.89            14.1197   \n1                  7.227778      0.86            14.2646   \n2                  9.377778      0.89             3.9284   \n3                  5.944444      0.83            14.1036   \n4                  6.977778      0.83            11.0446   \n5                  7.111111      0.85            13.9587   \n6                  5.522222      0.95            12.3648   \n7                  6.527778      0.89            14.1519   \n8                 10.822222      0.82            11.3183   \n9                 13.772222      0.72            12.5258   \n\n   Wind Bearing (degrees)  Visibility (km)  Loud Cover  Pressure (millibars)  \\\n0                   251.0          15.8263         0.0               1015.13   \n1                   259.0          15.8263         0.0               1015.63   \n2                   204.0          14.9569         0.0               1015.94   \n3                   269.0          15.8263         0.0               1016.41   \n4                   259.0          15.8263         0.0               1016.51   \n5                   258.0          14.9569         0.0               1016.66   \n6                   259.0           9.9820         0.0               1016.72   \n7                   260.0           9.9820         0.0               1016.84   \n8                   259.0           9.9820         0.0               1017.37   \n9                   279.0           9.9820         0.0               1017.22   \n\n                       Daily Summary  \n0  Partly cloudy throughout the day.  \n1  Partly cloudy throughout the day.  \n2  Partly cloudy throughout the day.  \n3  Partly cloudy throughout the day.  \n4  Partly cloudy throughout the day.  \n5  Partly cloudy throughout the day.  \n6  Partly cloudy throughout the day.  \n7  Partly cloudy throughout the day.  \n8  Partly cloudy throughout the day.  \n9  Partly cloudy throughout the day.  ",
      "text/html": "<div>\n<style scoped>\n    .dataframe tbody tr th:only-of-type {\n        vertical-align: middle;\n    }\n\n    .dataframe tbody tr th {\n        vertical-align: top;\n    }\n\n    .dataframe thead th {\n        text-align: right;\n    }\n</style>\n<table border=\"1\" class=\"dataframe\">\n  <thead>\n    <tr style=\"text-align: right;\">\n      <th></th>\n      <th>Formatted Date</th>\n      <th>Summary</th>\n      <th>Precip Type</th>\n      <th>Temperature (C)</th>\n      <th>Apparent Temperature (C)</th>\n      <th>Humidity</th>\n      <th>Wind Speed (km/h)</th>\n      <th>Wind Bearing (degrees)</th>\n      <th>Visibility (km)</th>\n      <th>Loud Cover</th>\n      <th>Pressure (millibars)</th>\n      <th>Daily Summary</th>\n    </tr>\n  </thead>\n  <tbody>\n    <tr>\n      <th>0</th>\n      <td>2006-04-01 00:00:00.000 +0200</td>\n      <td>Partly Cloudy</td>\n      <td>rain</td>\n      <td>9.472222</td>\n      <td>7.388889</td>\n      <td>0.89</td>\n      <td>14.1197</td>\n      <td>251.0</td>\n      <td>15.8263</td>\n      <td>0.0</td>\n      <td>1015.13</td>\n      <td>Partly cloudy throughout the day.</td>\n    </tr>\n    <tr>\n      <th>1</th>\n      <td>2006-04-01 01:00:00.000 +0200</td>\n      <td>Partly Cloudy</td>\n      <td>rain</td>\n      <td>9.355556</td>\n      <td>7.227778</td>\n      <td>0.86</td>\n      <td>14.2646</td>\n      <td>259.0</td>\n      <td>15.8263</td>\n      <td>0.0</td>\n      <td>1015.63</td>\n      <td>Partly cloudy throughout the day.</td>\n    </tr>\n    <tr>\n      <th>2</th>\n      <td>2006-04-01 02:00:00.000 +0200</td>\n      <td>Mostly Cloudy</td>\n      <td>rain</td>\n      <td>9.377778</td>\n      <td>9.377778</td>\n      <td>0.89</td>\n      <td>3.9284</td>\n      <td>204.0</td>\n      <td>14.9569</td>\n      <td>0.0</td>\n      <td>1015.94</td>\n      <td>Partly cloudy throughout the day.</td>\n    </tr>\n    <tr>\n      <th>3</th>\n      <td>2006-04-01 03:00:00.000 +0200</td>\n      <td>Partly Cloudy</td>\n      <td>rain</td>\n      <td>8.288889</td>\n      <td>5.944444</td>\n      <td>0.83</td>\n      <td>14.1036</td>\n      <td>269.0</td>\n      <td>15.8263</td>\n      <td>0.0</td>\n      <td>1016.41</td>\n      <td>Partly cloudy throughout the day.</td>\n    </tr>\n    <tr>\n      <th>4</th>\n      <td>2006-04-01 04:00:00.000 +0200</td>\n      <td>Mostly Cloudy</td>\n      <td>rain</td>\n      <td>8.755556</td>\n      <td>6.977778</td>\n      <td>0.83</td>\n      <td>11.0446</td>\n      <td>259.0</td>\n      <td>15.8263</td>\n      <td>0.0</td>\n      <td>1016.51</td>\n      <td>Partly cloudy throughout the day.</td>\n    </tr>\n    <tr>\n      <th>5</th>\n      <td>2006-04-01 05:00:00.000 +0200</td>\n      <td>Partly Cloudy</td>\n      <td>rain</td>\n      <td>9.222222</td>\n      <td>7.111111</td>\n      <td>0.85</td>\n      <td>13.9587</td>\n      <td>258.0</td>\n      <td>14.9569</td>\n      <td>0.0</td>\n      <td>1016.66</td>\n      <td>Partly cloudy throughout the day.</td>\n    </tr>\n    <tr>\n      <th>6</th>\n      <td>2006-04-01 06:00:00.000 +0200</td>\n      <td>Partly Cloudy</td>\n      <td>rain</td>\n      <td>7.733333</td>\n      <td>5.522222</td>\n      <td>0.95</td>\n      <td>12.3648</td>\n      <td>259.0</td>\n      <td>9.9820</td>\n      <td>0.0</td>\n      <td>1016.72</td>\n      <td>Partly cloudy throughout the day.</td>\n    </tr>\n    <tr>\n      <th>7</th>\n      <td>2006-04-01 07:00:00.000 +0200</td>\n      <td>Partly Cloudy</td>\n      <td>rain</td>\n      <td>8.772222</td>\n      <td>6.527778</td>\n      <td>0.89</td>\n      <td>14.1519</td>\n      <td>260.0</td>\n      <td>9.9820</td>\n      <td>0.0</td>\n      <td>1016.84</td>\n      <td>Partly cloudy throughout the day.</td>\n    </tr>\n    <tr>\n      <th>8</th>\n      <td>2006-04-01 08:00:00.000 +0200</td>\n      <td>Partly Cloudy</td>\n      <td>rain</td>\n      <td>10.822222</td>\n      <td>10.822222</td>\n      <td>0.82</td>\n      <td>11.3183</td>\n      <td>259.0</td>\n      <td>9.9820</td>\n      <td>0.0</td>\n      <td>1017.37</td>\n      <td>Partly cloudy throughout the day.</td>\n    </tr>\n    <tr>\n      <th>9</th>\n      <td>2006-04-01 09:00:00.000 +0200</td>\n      <td>Partly Cloudy</td>\n      <td>rain</td>\n      <td>13.772222</td>\n      <td>13.772222</td>\n      <td>0.72</td>\n      <td>12.5258</td>\n      <td>279.0</td>\n      <td>9.9820</td>\n      <td>0.0</td>\n      <td>1017.22</td>\n      <td>Partly cloudy throughout the day.</td>\n    </tr>\n  </tbody>\n</table>\n</div>"
     },
     "metadata": {},
     "execution_count": 9
    }
   ],
   "source": [
    "data.head(10)"
   ]
  },
  {
   "cell_type": "code",
   "execution_count": 10,
   "metadata": {
    "tags": []
   },
   "outputs": [
    {
     "output_type": "stream",
     "name": "stdout",
     "text": "<class 'pandas.core.frame.DataFrame'>\nRangeIndex: 96453 entries, 0 to 96452\nData columns (total 12 columns):\n #   Column                    Non-Null Count  Dtype  \n---  ------                    --------------  -----  \n 0   Formatted Date            96453 non-null  object \n 1   Summary                   96453 non-null  object \n 2   Precip Type               95936 non-null  object \n 3   Temperature (C)           96453 non-null  float64\n 4   Apparent Temperature (C)  96453 non-null  float64\n 5   Humidity                  96453 non-null  float64\n 6   Wind Speed (km/h)         96453 non-null  float64\n 7   Wind Bearing (degrees)    96453 non-null  float64\n 8   Visibility (km)           96453 non-null  float64\n 9   Loud Cover                96453 non-null  float64\n 10  Pressure (millibars)      96453 non-null  float64\n 11  Daily Summary             96453 non-null  object \ndtypes: float64(8), object(4)\nmemory usage: 7.4+ MB\n"
    }
   ],
   "source": [
    "data.info()"
   ]
  },
  {
   "cell_type": "code",
   "execution_count": 11,
   "metadata": {},
   "outputs": [
    {
     "output_type": "execute_result",
     "data": {
      "text/plain": "                       Formatted Date        Summary Precip Type  \\\ncount                           96453          96453       95936   \nunique                          96429             27           2   \ntop     2010-08-02 23:00:00.000 +0200  Partly Cloudy        rain   \nfreq                                2          31733       85224   \nmean                              NaN            NaN         NaN   \nstd                               NaN            NaN         NaN   \nmin                               NaN            NaN         NaN   \n25%                               NaN            NaN         NaN   \n50%                               NaN            NaN         NaN   \n75%                               NaN            NaN         NaN   \nmax                               NaN            NaN         NaN   \n\n        Temperature (C)  Apparent Temperature (C)      Humidity  \\\ncount      96453.000000              96453.000000  96453.000000   \nunique              NaN                       NaN           NaN   \ntop                 NaN                       NaN           NaN   \nfreq                NaN                       NaN           NaN   \nmean          11.932678                 10.855029      0.734899   \nstd            9.551546                 10.696847      0.195473   \nmin          -21.822222                -27.716667      0.000000   \n25%            4.688889                  2.311111      0.600000   \n50%           12.000000                 12.000000      0.780000   \n75%           18.838889                 18.838889      0.890000   \nmax           39.905556                 39.344444      1.000000   \n\n        Wind Speed (km/h)  Wind Bearing (degrees)  Visibility (km)  \\\ncount        96453.000000            96453.000000     96453.000000   \nunique                NaN                     NaN              NaN   \ntop                   NaN                     NaN              NaN   \nfreq                  NaN                     NaN              NaN   \nmean            10.810640              187.509232        10.347325   \nstd              6.913571              107.383428         4.192123   \nmin              0.000000                0.000000         0.000000   \n25%              5.828200              116.000000         8.339800   \n50%              9.965900              180.000000        10.046400   \n75%             14.135800              290.000000        14.812000   \nmax             63.852600              359.000000        16.100000   \n\n        Loud Cover  Pressure (millibars)                      Daily Summary  \ncount      96453.0          96453.000000                              96453  \nunique         NaN                   NaN                                214  \ntop            NaN                   NaN  Mostly cloudy throughout the day.  \nfreq           NaN                   NaN                              20085  \nmean           0.0           1003.235956                                NaN  \nstd            0.0            116.969906                                NaN  \nmin            0.0              0.000000                                NaN  \n25%            0.0           1011.900000                                NaN  \n50%            0.0           1016.450000                                NaN  \n75%            0.0           1021.090000                                NaN  \nmax            0.0           1046.380000                                NaN  ",
      "text/html": "<div>\n<style scoped>\n    .dataframe tbody tr th:only-of-type {\n        vertical-align: middle;\n    }\n\n    .dataframe tbody tr th {\n        vertical-align: top;\n    }\n\n    .dataframe thead th {\n        text-align: right;\n    }\n</style>\n<table border=\"1\" class=\"dataframe\">\n  <thead>\n    <tr style=\"text-align: right;\">\n      <th></th>\n      <th>Formatted Date</th>\n      <th>Summary</th>\n      <th>Precip Type</th>\n      <th>Temperature (C)</th>\n      <th>Apparent Temperature (C)</th>\n      <th>Humidity</th>\n      <th>Wind Speed (km/h)</th>\n      <th>Wind Bearing (degrees)</th>\n      <th>Visibility (km)</th>\n      <th>Loud Cover</th>\n      <th>Pressure (millibars)</th>\n      <th>Daily Summary</th>\n    </tr>\n  </thead>\n  <tbody>\n    <tr>\n      <th>count</th>\n      <td>96453</td>\n      <td>96453</td>\n      <td>95936</td>\n      <td>96453.000000</td>\n      <td>96453.000000</td>\n      <td>96453.000000</td>\n      <td>96453.000000</td>\n      <td>96453.000000</td>\n      <td>96453.000000</td>\n      <td>96453.0</td>\n      <td>96453.000000</td>\n      <td>96453</td>\n    </tr>\n    <tr>\n      <th>unique</th>\n      <td>96429</td>\n      <td>27</td>\n      <td>2</td>\n      <td>NaN</td>\n      <td>NaN</td>\n      <td>NaN</td>\n      <td>NaN</td>\n      <td>NaN</td>\n      <td>NaN</td>\n      <td>NaN</td>\n      <td>NaN</td>\n      <td>214</td>\n    </tr>\n    <tr>\n      <th>top</th>\n      <td>2010-08-02 23:00:00.000 +0200</td>\n      <td>Partly Cloudy</td>\n      <td>rain</td>\n      <td>NaN</td>\n      <td>NaN</td>\n      <td>NaN</td>\n      <td>NaN</td>\n      <td>NaN</td>\n      <td>NaN</td>\n      <td>NaN</td>\n      <td>NaN</td>\n      <td>Mostly cloudy throughout the day.</td>\n    </tr>\n    <tr>\n      <th>freq</th>\n      <td>2</td>\n      <td>31733</td>\n      <td>85224</td>\n      <td>NaN</td>\n      <td>NaN</td>\n      <td>NaN</td>\n      <td>NaN</td>\n      <td>NaN</td>\n      <td>NaN</td>\n      <td>NaN</td>\n      <td>NaN</td>\n      <td>20085</td>\n    </tr>\n    <tr>\n      <th>mean</th>\n      <td>NaN</td>\n      <td>NaN</td>\n      <td>NaN</td>\n      <td>11.932678</td>\n      <td>10.855029</td>\n      <td>0.734899</td>\n      <td>10.810640</td>\n      <td>187.509232</td>\n      <td>10.347325</td>\n      <td>0.0</td>\n      <td>1003.235956</td>\n      <td>NaN</td>\n    </tr>\n    <tr>\n      <th>std</th>\n      <td>NaN</td>\n      <td>NaN</td>\n      <td>NaN</td>\n      <td>9.551546</td>\n      <td>10.696847</td>\n      <td>0.195473</td>\n      <td>6.913571</td>\n      <td>107.383428</td>\n      <td>4.192123</td>\n      <td>0.0</td>\n      <td>116.969906</td>\n      <td>NaN</td>\n    </tr>\n    <tr>\n      <th>min</th>\n      <td>NaN</td>\n      <td>NaN</td>\n      <td>NaN</td>\n      <td>-21.822222</td>\n      <td>-27.716667</td>\n      <td>0.000000</td>\n      <td>0.000000</td>\n      <td>0.000000</td>\n      <td>0.000000</td>\n      <td>0.0</td>\n      <td>0.000000</td>\n      <td>NaN</td>\n    </tr>\n    <tr>\n      <th>25%</th>\n      <td>NaN</td>\n      <td>NaN</td>\n      <td>NaN</td>\n      <td>4.688889</td>\n      <td>2.311111</td>\n      <td>0.600000</td>\n      <td>5.828200</td>\n      <td>116.000000</td>\n      <td>8.339800</td>\n      <td>0.0</td>\n      <td>1011.900000</td>\n      <td>NaN</td>\n    </tr>\n    <tr>\n      <th>50%</th>\n      <td>NaN</td>\n      <td>NaN</td>\n      <td>NaN</td>\n      <td>12.000000</td>\n      <td>12.000000</td>\n      <td>0.780000</td>\n      <td>9.965900</td>\n      <td>180.000000</td>\n      <td>10.046400</td>\n      <td>0.0</td>\n      <td>1016.450000</td>\n      <td>NaN</td>\n    </tr>\n    <tr>\n      <th>75%</th>\n      <td>NaN</td>\n      <td>NaN</td>\n      <td>NaN</td>\n      <td>18.838889</td>\n      <td>18.838889</td>\n      <td>0.890000</td>\n      <td>14.135800</td>\n      <td>290.000000</td>\n      <td>14.812000</td>\n      <td>0.0</td>\n      <td>1021.090000</td>\n      <td>NaN</td>\n    </tr>\n    <tr>\n      <th>max</th>\n      <td>NaN</td>\n      <td>NaN</td>\n      <td>NaN</td>\n      <td>39.905556</td>\n      <td>39.344444</td>\n      <td>1.000000</td>\n      <td>63.852600</td>\n      <td>359.000000</td>\n      <td>16.100000</td>\n      <td>0.0</td>\n      <td>1046.380000</td>\n      <td>NaN</td>\n    </tr>\n  </tbody>\n</table>\n</div>"
     },
     "metadata": {},
     "execution_count": 11
    }
   ],
   "source": [
    "data.describe(include=\"all\")"
   ]
  },
  {
   "cell_type": "code",
   "execution_count": 12,
   "metadata": {},
   "outputs": [
    {
     "output_type": "execute_result",
     "data": {
      "text/plain": "       Temperature (C)  Apparent Temperature (C)      Humidity  \\\ncount     96453.000000              96453.000000  96453.000000   \nmean         11.932678                 10.855029      0.734899   \nstd           9.551546                 10.696847      0.195473   \nmin         -21.822222                -27.716667      0.000000   \n25%           4.688889                  2.311111      0.600000   \n50%          12.000000                 12.000000      0.780000   \n75%          18.838889                 18.838889      0.890000   \nmax          39.905556                 39.344444      1.000000   \n\n       Wind Speed (km/h)  Wind Bearing (degrees)  Visibility (km)  Loud Cover  \\\ncount       96453.000000            96453.000000     96453.000000     96453.0   \nmean           10.810640              187.509232        10.347325         0.0   \nstd             6.913571              107.383428         4.192123         0.0   \nmin             0.000000                0.000000         0.000000         0.0   \n25%             5.828200              116.000000         8.339800         0.0   \n50%             9.965900              180.000000        10.046400         0.0   \n75%            14.135800              290.000000        14.812000         0.0   \nmax            63.852600              359.000000        16.100000         0.0   \n\n       Pressure (millibars)  \ncount          96453.000000  \nmean            1003.235956  \nstd              116.969906  \nmin                0.000000  \n25%             1011.900000  \n50%             1016.450000  \n75%             1021.090000  \nmax             1046.380000  ",
      "text/html": "<div>\n<style scoped>\n    .dataframe tbody tr th:only-of-type {\n        vertical-align: middle;\n    }\n\n    .dataframe tbody tr th {\n        vertical-align: top;\n    }\n\n    .dataframe thead th {\n        text-align: right;\n    }\n</style>\n<table border=\"1\" class=\"dataframe\">\n  <thead>\n    <tr style=\"text-align: right;\">\n      <th></th>\n      <th>Temperature (C)</th>\n      <th>Apparent Temperature (C)</th>\n      <th>Humidity</th>\n      <th>Wind Speed (km/h)</th>\n      <th>Wind Bearing (degrees)</th>\n      <th>Visibility (km)</th>\n      <th>Loud Cover</th>\n      <th>Pressure (millibars)</th>\n    </tr>\n  </thead>\n  <tbody>\n    <tr>\n      <th>count</th>\n      <td>96453.000000</td>\n      <td>96453.000000</td>\n      <td>96453.000000</td>\n      <td>96453.000000</td>\n      <td>96453.000000</td>\n      <td>96453.000000</td>\n      <td>96453.0</td>\n      <td>96453.000000</td>\n    </tr>\n    <tr>\n      <th>mean</th>\n      <td>11.932678</td>\n      <td>10.855029</td>\n      <td>0.734899</td>\n      <td>10.810640</td>\n      <td>187.509232</td>\n      <td>10.347325</td>\n      <td>0.0</td>\n      <td>1003.235956</td>\n    </tr>\n    <tr>\n      <th>std</th>\n      <td>9.551546</td>\n      <td>10.696847</td>\n      <td>0.195473</td>\n      <td>6.913571</td>\n      <td>107.383428</td>\n      <td>4.192123</td>\n      <td>0.0</td>\n      <td>116.969906</td>\n    </tr>\n    <tr>\n      <th>min</th>\n      <td>-21.822222</td>\n      <td>-27.716667</td>\n      <td>0.000000</td>\n      <td>0.000000</td>\n      <td>0.000000</td>\n      <td>0.000000</td>\n      <td>0.0</td>\n      <td>0.000000</td>\n    </tr>\n    <tr>\n      <th>25%</th>\n      <td>4.688889</td>\n      <td>2.311111</td>\n      <td>0.600000</td>\n      <td>5.828200</td>\n      <td>116.000000</td>\n      <td>8.339800</td>\n      <td>0.0</td>\n      <td>1011.900000</td>\n    </tr>\n    <tr>\n      <th>50%</th>\n      <td>12.000000</td>\n      <td>12.000000</td>\n      <td>0.780000</td>\n      <td>9.965900</td>\n      <td>180.000000</td>\n      <td>10.046400</td>\n      <td>0.0</td>\n      <td>1016.450000</td>\n    </tr>\n    <tr>\n      <th>75%</th>\n      <td>18.838889</td>\n      <td>18.838889</td>\n      <td>0.890000</td>\n      <td>14.135800</td>\n      <td>290.000000</td>\n      <td>14.812000</td>\n      <td>0.0</td>\n      <td>1021.090000</td>\n    </tr>\n    <tr>\n      <th>max</th>\n      <td>39.905556</td>\n      <td>39.344444</td>\n      <td>1.000000</td>\n      <td>63.852600</td>\n      <td>359.000000</td>\n      <td>16.100000</td>\n      <td>0.0</td>\n      <td>1046.380000</td>\n    </tr>\n  </tbody>\n</table>\n</div>"
     },
     "metadata": {},
     "execution_count": 12
    }
   ],
   "source": [
    "data.describe()\n"
   ]
  },
  {
   "cell_type": "code",
   "execution_count": 13,
   "metadata": {},
   "outputs": [
    {
     "output_type": "execute_result",
     "data": {
      "text/plain": "array(['Partly Cloudy', 'Mostly Cloudy', 'Overcast', 'Foggy',\n       'Breezy and Mostly Cloudy', 'Clear', 'Breezy and Partly Cloudy',\n       'Breezy and Overcast', 'Humid and Mostly Cloudy',\n       'Humid and Partly Cloudy', 'Windy and Foggy', 'Windy and Overcast',\n       'Breezy and Foggy', 'Windy and Partly Cloudy', 'Breezy',\n       'Dry and Partly Cloudy', 'Windy and Mostly Cloudy',\n       'Dangerously Windy and Partly Cloudy', 'Dry', 'Windy',\n       'Humid and Overcast', 'Light Rain', 'Drizzle', 'Windy and Dry',\n       'Dry and Mostly Cloudy', 'Breezy and Dry', 'Rain'], dtype=object)"
     },
     "metadata": {},
     "execution_count": 13
    }
   ],
   "source": [
    "unique=data[\"Summary\"].unique()\n",
    "unique"
   ]
  },
  {
   "cell_type": "code",
   "execution_count": 15,
   "metadata": {},
   "outputs": [],
   "source": [
    "le=LabelEncoder()\n",
    "le.fit(unique)\n",
    "data['Summary']=le.fit_transform(data['Summary'])\n",
    "data=data.iloc[:,:-1]\n"
   ]
  },
  {
   "cell_type": "code",
   "execution_count": 19,
   "metadata": {
    "tags": []
   },
   "outputs": [
    {
     "output_type": "execute_result",
     "data": {
      "text/plain": "array(['rain', 'snow', nan], dtype=object)"
     },
     "metadata": {},
     "execution_count": 19
    }
   ],
   "source": [
    "data['Precip Type'].unique()    \n"
   ]
  },
  {
   "cell_type": "code",
   "execution_count": null,
   "metadata": {},
   "outputs": [],
   "source": []
  }
 ]
}